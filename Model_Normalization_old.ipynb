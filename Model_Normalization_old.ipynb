{
 "cells": [
  {
   "cell_type": "markdown",
   "id": "72ac7cf9-264e-4479-8d52-f524b1c61d3a",
   "metadata": {
    "tags": []
   },
   "source": [
    "All imports"
   ]
  },
  {
   "cell_type": "code",
   "execution_count": null,
   "id": "4ec4a994",
   "metadata": {},
   "outputs": [],
   "source": [
    "import numpy as np\n",
    "import pandas as pd\n",
    "import matplotlib.pyplot as plt\n",
    "import redshift_connector\n",
    "import seaborn as sns\n",
    "import os\n",
    "\n",
    "from sklearn.preprocessing import StandardScaler, MinMaxScaler\n",
    "from sklearn.decomposition import PCA\n",
    "from sklearn.ensemble import IsolationForest\n",
    "from sklearn.cluster import KMeans\n",
    "from sklearn.covariance import EllipticEnvelope\n",
    "\n",
    "from sklearn.neighbors import LocalOutlierFactor\n",
    "from sklearn.svm import OneClassSVM\n"
   ]
  },
  {
   "cell_type": "code",
   "execution_count": null,
   "id": "acd11d76",
   "metadata": {},
   "outputs": [],
   "source": [
    "\n",
    "# Specify the directory path where you want to save the CSV file\n",
    "directory = 'IncludingFailed_Dirves'\n",
    "\n",
    "# Create the directory if it doesn't exist\n",
    "if not os.path.exists(directory):\n",
    "    os.makedirs(directory)"
   ]
  },
  {
   "cell_type": "markdown",
   "id": "0750ea64",
   "metadata": {},
   "source": [
    "Connect to DB and fetch data"
   ]
  },
  {
   "cell_type": "code",
   "execution_count": null,
   "id": "aceda4f5-0165-405b-9756-057976d12e90",
   "metadata": {
    "execution": {
     "iopub.execute_input": "2024-01-23T18:39:15.882910Z",
     "iopub.status.busy": "2024-01-23T18:39:15.881909Z",
     "iopub.status.idle": "2024-01-23T18:58:58.608053Z",
     "shell.execute_reply": "2024-01-23T18:58:58.608053Z",
     "shell.execute_reply.started": "2024-01-23T18:39:15.882910Z"
    },
    "tags": []
   },
   "outputs": [],
   "source": [
    "conn = redshift_connector.connect(\n",
    "    host='abcd',\n",
    "    port=5439,\n",
    "    database='abcd',\n",
    "    user='abcd',\n",
    "    password='abcd'\n",
    ")\n",
    "cursor = conn.cursor()\n",
    "df_main = pd.DataFrame()\n",
    "\n",
    "failed_serial_numbers_array = ['A08B442B','A083A861','A08B3685','A084F1C0','A084F1C6','A0750CD2','A075095D','A0760952','A075F352','A08B37E7','A076D77F','A08B3900','A08AA520','A084440B','A0772938','A084D9E2','A0845370','A0844F7D','A0845134','A084564B','A0879841','A0844A97','A0751C24','A07505EE','A07508CE','A07507F0','A0761540','A075BBD0','A075BCAA','A0845189','A08282E6','A087C130','A085127A','A084F5AD','A074FAE2','A084B845','A089262D','A076D9C8','A08AB72A','A08C4262','A08C3FBE','A08B2744','A076D841','A076BB9C','A075186E','A076B86F','A08AC4C5','A08B6867','A08ACF71','A08B4EAE','A08B4B1C','A08B47DE','A08B30A4','A05D923D','A05D9068','A05D9473','A05D9441','A067CE75','A067CE63','A067CE7B','A067CE7D','A067CE71','A05D2331','A05FD059','A0664AB0','A066E204','A067208A','A066E2FB','A0665522','A0667F0D','A066302C','A06641ED','A066426E','A0664329','A066432B','A0680043','A0661608','A0674066','A06744E3','A0674517','A067870C','A067871D','A0660CF8','A06617CE','A06638C4','A0664012','A06647DE','A0664C05','A0671569','A067341A','A06734C4','A067E58E','A06CA94B','A0664108','A06734BD','A0597141','A0651B4D','A066648F','A0671695','A067F9CE','A067FDBB','A067FEE0','A07105B8','A06CE1D7','A06EA6C0','A06EC7F2','A06EFCD6','A07076CF','A06733D5','A067E427','A067E58C','A0660F4B','A066154C','A06731D8','A06ADF21','A06D4039','A06ADF1F','A06636CD','A06813E9','A068174E','A0681884','A0681D9A','A06CD1BE','A070A35C','A06D0D27','A070695E','A06E15B6','A06E163D','A06DF7FA','A06DF8F3','A071BA66','A071BEF7','A071B48D','A071B6A7','A071B799','A071C745','A06C4705','A06CCF6A','A06CE1C1','A071C801','A071B3FA','A05BEECB','A0660F83','A06646BB','A074D0D7','A06631C1','A06EF466','A06D2E2C','A06F0C8B','A06733AE','A0673140','A0660DBC','A0660CFC','A0673728','A0742E52','A0751683','A072405D','A0648AC6','A0647DE7','A064CC40','A0601CB6','A064CC98','A0671FAF','A0671DF0','A06677B2','A05BE9C0','A06644E9','A067A9B2','A0752D8D','A07435BD','A066453F','A06644A0','A0664251','A0663551','A067E38B','A0727163','A072706F','A07272F6','A07F0850','A07D9935','A07D982F','A07D99D3','A07DA75F','A0655FB5','A06A3718','A06BFA7F','A05CF152','A05CF14F','A0672C8A','A076E1DF','A076E260','A076E28B','A076E21C','A076E209','A065DAE0','A067D784','A06714DC','A05BEC64','A05BEAF7','A0663E30','A067FE16','A06FD48B','A0682226','A069DFA0','A0673112','A076E242','A06603B0','A076E245','A05D234A','A06A3706','A068E9C0','A076E261','A076E1DA','A076E252','A076E20D','A076E1F1','A076E294','A071AE57','A079AD89','A06F87E8','A060E428','A06593C2','A060E840','A061BB91','A067DE1F','A06F8E21','A0614917','A067ADB1','A067194A','A0670D72','A076B461','A076A827','A075BDD6','A0778F8B','A076A20A','A076A228','A076A3A2','A076A79F','A076A7A7','A076B0F6','A076B396','A076B3CD','A076B4AB','A076B56B','A076B5D7','A076A7A8','A06C9E63','A06C9E1B','A076A119','A0769C32','A076A3D3','A075BA26','A0714E15','A07A46DE','A07A467D','A0664BC1','A08A588F','A0672F6A','A07A4659','A066343F','A0664AF4','A06733B6','A0773D2E','A075A5D6','A065FEBF','A0660508','A066082F','A06306E9','A061BE1F','A07A47F6','A06573D8','A0604485','A066B96D','A07D4B62','A07CEF8B','A07CEE05','A07D5F0A','A07D47C0','A0752168','A075218B','A07522AB','A07A46E5','A06F935A','A065B111','A0666C6A','A0661056','A07DA963','A0766FC8','A0666E86','A0718BA9','A0818703','A08186F7','A0818739','A08186FF','A0763BB0','A066A964','A05E17BB','A0601DFA','A06093BE','A066175F','A066361B','A0661748','A0664580','A05EC7EC','A067E552','A0672FEF','A06735C8','A066E0D2','A060DF4A','A065A133','A07E3610','A07E5941','A0637647','A0660AC9','A05F5807','A083A82E','A06F416F','A06F54F4','A079660E']\n",
    "\n",
    "failed_serial_numbers = \"'A08B442B','A083A861','A08B3685','A084F1C0','A084F1C6','A0750CD2','A075095D','A0760952','A075F352','A08B37E7','A076D77F','A08B3900','A08AA520','A084440B','A0772938','A084D9E2','A0845370','A0844F7D','A0845134','A084564B','A0879841','A0844A97','A0751C24','A07505EE','A07508CE','A07507F0','A0761540','A075BBD0','A075BCAA','A0845189','A08282E6','A087C130','A085127A','A084F5AD','A074FAE2','A084B845','A089262D','A076D9C8','A08AB72A','A08C4262','A08C3FBE','A08B2744','A076D841','A076BB9C','A075186E','A076B86F','A08AC4C5','A08B6867','A08ACF71','A08B4EAE','A08B4B1C','A08B47DE','A08B30A4','A05D923D','A05D9068','A05D9473','A05D9441','A067CE75','A067CE63','A067CE7B','A067CE7D','A067CE71','A05D2331','A05FD059','A0664AB0','A066E204','A067208A','A066E2FB','A0665522','A0667F0D','A066302C','A06641ED','A066426E','A0664329','A066432B','A0680043','A0661608','A0674066','A06744E3','A0674517','A067870C','A067871D','A0660CF8','A06617CE','A06638C4','A0664012','A06647DE','A0664C05','A0671569','A067341A','A06734C4','A067E58E','A06CA94B','A0664108','A06734BD','A0597141','A0651B4D','A066648F','A0671695','A067F9CE','A067FDBB','A067FEE0','A07105B8','A06CE1D7','A06EA6C0','A06EC7F2','A06EFCD6','A07076CF','A06733D5','A067E427','A067E58C','A0660F4B','A066154C','A06731D8','A06ADF21','A06D4039','A06ADF1F','A06636CD','A06813E9','A068174E','A0681884','A0681D9A','A06CD1BE','A070A35C','A06D0D27','A070695E','A06E15B6','A06E163D','A06DF7FA','A06DF8F3','A071BA66','A071BEF7','A071B48D','A071B6A7','A071B799','A071C745','A06C4705','A06CCF6A','A06CE1C1','A071C801','A071B3FA','A05BEECB','A0660F83','A06646BB','A074D0D7','A06631C1','A06EF466','A06D2E2C','A06F0C8B','A06733AE','A0673140','A0660DBC','A0660CFC','A0673728','A0742E52','A0751683','A072405D','A0648AC6','A0647DE7','A064CC40','A0601CB6','A064CC98','A0671FAF','A0671DF0','A06677B2','A05BE9C0','A06644E9','A067A9B2','A0752D8D','A07435BD','A066453F','A06644A0','A0664251','A0663551','A067E38B','A0727163','A072706F','A07272F6','A07F0850','A07D9935','A07D982F','A07D99D3','A07DA75F','A0655FB5','A06A3718','A06BFA7F','A05CF152','A05CF14F','A0672C8A','A076E1DF','A076E260','A076E28B','A076E21C','A076E209','A065DAE0','A067D784','A06714DC','A05BEC64','A05BEAF7','A0663E30','A067FE16','A06FD48B','A0682226','A069DFA0','A0673112','A076E242','A06603B0','A076E245','A05D234A','A06A3706','A068E9C0','A076E261','A076E1DA','A076E252','A076E20D','A076E1F1','A076E294','A071AE57','A079AD89','A06F87E8','A060E428','A06593C2','A060E840','A061BB91','A067DE1F','A06F8E21','A0614917','A067ADB1','A067194A','A0670D72','A076B461','A076A827','A075BDD6','A0778F8B','A076A20A','A076A228','A076A3A2','A076A79F','A076A7A7','A076B0F6','A076B396','A076B3CD','A076B4AB','A076B56B','A076B5D7','A076A7A8','A06C9E63','A06C9E1B','A076A119','A0769C32','A076A3D3','A075BA26','A0714E15','A07A46DE','A07A467D','A0664BC1','A08A588F','A0672F6A','A07A4659','A066343F','A0664AF4','A06733B6','A0773D2E','A075A5D6','A065FEBF','A0660508','A066082F','A06306E9','A061BE1F','A07A47F6','A06573D8','A0604485','A066B96D','A07D4B62','A07CEF8B','A07CEE05','A07D5F0A','A07D47C0','A0752168','A075218B','A07522AB','A07A46E5','A06F935A','A065B111','A0666C6A','A0661056','A07DA963','A0766FC8','A0666E86','A0718BA9','A0818703','A08186F7','A0818739','A08186FF','A0763BB0','A066A964','A05E17BB','A0601DFA','A06093BE','A066175F','A066361B','A0661748','A0664580','A05EC7EC','A067E552','A0672FEF','A06735C8','A066E0D2','A060DF4A','A065A133','A07E3610','A07E5941','A0637647','A0660AC9','A05F5807','A083A82E','A06F416F','A06F54F4','A079660E'\"\n",
    "de_fields = \"de.serial_number,de.part_number,de.operation,de.test_date\"\n",
    "lp_fields = \"lp.field_name,lp.field_value,lp.time_pulled,lp.instance\"\n",
    "model_values = \"'WUS4BB096D7P3E3','WUS4BB019D7P3E3','WUS4BB038D7P3E3','WUS4BB076D7P3E3','WUS4BB096D7P3E3','WUS4BB019D7P3E3','WUS4BB038D7P3E3','WUS4BB076D7P3E3','WDC-WUS4EB016D7P3E3',\"\\\n",
    "               \"'WUS4CB080D7P3E3','WUS4CB016D7P3E3','WUS4CB032D7P3E3','WUS4CB064D7P3E3','WUS4BB096D7P3E1','WUS4BB019D7P3E1','WUS4BB038D7P3E1','WUS4BB076D7P3E1','WUS4BB096D7P3E3',\"\\\n",
    "               \"'WUS4BB019D7P3E1','WUS4BB038D7P3E1','WUS4CB032D7P3E3','WUS4BB096D7P3E3','WUS4BB019D7P3E3','WUS4BB038D7P3E3','WUS4BB076D7P3E3','WUS4CB080D7P3E3','WUS4CB016D7P3E3',\"\\\n",
    "               \"'WUS4CB032D7P3E3','WUS4CB064D7P3E3','WDC-WDS192T1D0D-01AJB0','WDC-WDS192T1DVD-02AJC0'',''WDC-WDS384T1D0D-01AJB0','WDC-WDS384T1DVD-02AJC0','WDC-WDS768T1D0D-01AJB0',\"\\\n",
    "               \"'WDC-WDS768T1DVD-02AJC0','WDC-WDS960G1D0D-01AJB0','WDC-WDS960G1DVD-02AJC0','WUS4BB076D7P3E3','WUS4CB080D7P3E3','WUS4CB016D7P3E3','WUS4BB096D7P3E3','WUS4BB038D7P3E3',\"\\\n",
    "               \"'WUS4CB032D7P3E3','WUS4CB064D7P3E3','WUS4BB019D7P3E3','WUS4BB038D7P3E3','WUS4BB076D7P3E3','WUS4CB032D7P3E3','WUS4BB019D7P3E1','WUS4BB038D7P3E1','WUS4BB076D7P3E1',\"\\\n",
    "               \"'WUS4BB076D7P3E3','WUS4BB096D4M9E3','WUS4BB019D4M9E3','WUS4BB038D4M9E3','WUS4BB096D4M9E3','WUS4BB019D4M9E3','WUS4BB038D4M9E3','WUS4CB080D7P3E3','WUS4BB019D7P3E3',\"\\\n",
    "               \"'WUS4BB038D7P3E3','WUS4CB064D7P3E3','WUS4AB076D9ELE3','WUS4AB0A1D9ELE3','WUS4AB0A1DAELE7','WUS4AB076D9ELE7','WUS4AB0A1D9ELE8','WUS4BB096D7P3E4','WUS4BB019D7P3E4',\"\\\n",
    "               \"'WUS4BB038D7P3E4','WUS4BB076D7P3E4','WUS4CB080D7P3E4','WUS4CB016D7P3E4','WUS4CB032D7P3E4','WUS4CB064D7P3E4','WUS4BB096D7P3E4','WUS4BB019D7P3E4','WUS4BB076D7P3E4',\"\\\n",
    "               \"'WUS4BB096D4MBE6','WUS4BB019D4MBE6','WUS4BB038D4MBE6','WUS4BB038D4M9E7','WUS4BB019D4M9E7','WUS4BB019DJESE7','WUS4BB038DJESE7',\"\\\n",
    "               \"'0TS1927','0TS1928','0TS1929','0TS1930','0TS1992','0TS1993','0TS1994','0TS1995','0TS2226','0TS1952','0TS1953','0TS1954','0TS1955','0TS1960','0TS1961','0TS1962','0TS1963',\"\\\n",
    "               \"'0TS2162','0TS2163','0TS2164','0TS2165','0TS2184','0TS2185','0TS2186','0TS2187','0TS2188','0TS2189','0TS2190','0TS2191',\"\\\n",
    "               \"'WDS192T1D0D-01AJB0','WDS192T1DVD-02AJC0','WDS384T1D0D-01AJB0','WDS384T1DVD-02AJC0','WDS768T1D0D-01AJB0','WDS768T1DVD-02AJC0','WDS960G1D0D-01AJB0','WDS960G1DVD-02AJC0',\"\\\n",
    "               \"'0TS2346','0TS2350','0TS2351','0TS2347','0TS2348','0TS2379','0TS2380','0TS1928','0TS1929','0TS1930','0TS1954','0TS2389','0TS2390','0TS2391','0TS2414','0TS1861','0TS1862',\"\\\n",
    "               \"'0TS1863','0TS1996','0TS1997','0TS1998','0TS2086','0TS2087','0TS2088','0TS2089','0TS2122','0TS2123','0TS2003','0TS2125','0TS2126','0TS1849','0TS1850','0TS1851','0TS1852',\"\\\n",
    "               \"'0TS1854','0TS1855','0TS1856','0TS1857','0TS2110','0TS2111','0TS2349','0TS2231','0TS2232','0TS2233','0TS2381','0TS2000','0TS2229','0TS2230'\"\n",
    "field_names = \"'power_on_hours','recycle_data_recovered_count','recycle_lpages_read','recycle_lpages_written','recycled_sb_due_to_fault','recycled_sb_due_to_read_disturb_audit_closed_block','recycled_sb_due_to_read_disturb_no_audit_when_only_WL0_written','recycled_sb_due_to_read_disturb_open_block_audit_on_alternate_WL','recycled_sb_due_to_read_disturb_open_block_when_target_read_on_WL_tierjoint','recycled_sb_due_to_read_error_recovery_deep_retry','recycled_sb_that_received_pre_program_erase_and_had_DI','recycled_sb_that_were_open_and_had_DI','recycled_sb_that_were_open_subset_that_received_pre_program_erase','recycled_sb_that_were_open_when_recycled','a2f_op_read_recovery_count','host_lpages_recovered_with_frame_FP_Worker0','host_lpages_recovered_with_frame_FP_Worker1','host_lpages_recovered_with_read_retries_FP_Worker0','host_lpages_recovered_with_read_retries_FP_Worker1','host_read_recovered_count','read_recovery_fail_count_recipe_01_proceed_to_FRAME','read_recovery_fm0_sl0_ch0','read_recovery_fm0_sl0_ch1','read_recovery_fm0_sl0_ch2','read_recovery_fm0_sl0_ch3','read_recovery_fm0_sl1_ch0','read_recovery_fm0_sl1_ch1','read_recovery_fm0_sl1_ch2','read_recovery_lower_page_lpage_retry_count','read_recovery_middle_page_lpage_retry_count','read_recovery_pMLC_lpage_retry_count','read_recovery_page_count_1st_highest','read_recovery_page_count_2nd_highest','read_recovery_page_number_1st_highest','read_recovery_page_number_2nd_highest','read_recovery_page_number_3rd_highest','read_recovery_retry_attempt_count_during_erase_suspend','read_recovery_success_count_recipe_01_bes_hard_read','read_recovery_success_count_recipe_01_cmd_CF','read_recovery_success_count_recipe_01_dynamic_read_shallow','read_recovery_success_count_recipe_01_soft_read','read_recovery_total_retry_attempt_count','read_recovery_upper_page_lpage_retry_count','glist_grown_blocks_for_frame','glist_grown_blocks_for_program_fail','grown_blocks_for_erase_fail','grown_blocks_for_frame','grown_blocks_for_program_fail','drive_average_ber','lower_page_average_ber','middle_page_average_ber','upper_page_average_ber','ifs_read_error_counts_nand','p0_smart_error_logs','ifs_erase_counts_nand','read_fbc_warning_threshold_exceeded','smart_warning_composite_temperature_time','case_composite_temperature','max_case_composite_temperature','drive_life_remaining','fe_core_voltage','fe_process','fe_temperature_sensor','life_used_percentage_x100','life_used_percentage_x100_internal','p0_smart_safe_shutdowns','num_discharge_tests_run_since_factory','zq_calibration_issued_to_die_count','pfail','recycled_sb_due_to_read_disturb_no_adit_when_only_WL_tierjoint_written', 'recycled_sb_due_to_reclamaton', 'host_cache_write_reovered_count', 'log_read_recovered_cunt', 'read_ecovery_fm0_sl1_ch3', 'read_recovery_page_count_3rd_hihest', 'read_recovery_success_cunt_recipe_01_bes_hard_read_program_suspend', 'read_recovery_ttal_retry_attempt_count_Last_8GB', 'no_of_dies_with_grown_defcts', 'war_log_entries_count', 'p1_smart_afe_shutdowns'\"\n",
    "for i in range(1,30):\n",
    "  print(f\"iteration: {i}\")\n",
    "  query = (f\"SELECT {de_fields},{lp_fields} \"\n",
    "          f\"FROM ssd_testlog2.drive_event de \"\n",
    "          f\"JOIN ssd_testlog2.ua_logpage0x3e_archive lp \"\n",
    "          f\"ON de.serial_number = lp.serial_number AND de.test_date = lp.test_date \"\n",
    "          f\"WHERE de.test_date BETWEEN '2021-05-0{i} 00:00:00' AND '2021-05-0{i} 23:59:59' \"\n",
    "            f\"AND de.part_number IN ({model_values}) \"\n",
    "            f\"AND lp.field_name IN ({field_names}) \"\n",
    "            f\"AND de.operation = 'SMST' \")\n",
    "  cursor.execute(query)\n",
    "  df_main_temp:pd.DataFrame = cursor.fetch_dataframe()\n",
    "  df_main = pd.concat([df_main, df_main_temp])\n",
    "print(df_main.shape)\n",
    "\n",
    "query_failedSNs = (f\"SELECT {de_fields},{lp_fields} \"\n",
    "          f\"FROM ssd_testlog2.drive_event de \"\n",
    "          f\"JOIN ssd_testlog2.ua_logpage0x3e_archive lp \"\n",
    "          f\"ON de.serial_number = lp.serial_number AND de.test_date = lp.test_date \"\n",
    "          f\"WHERE de.serial_number IN ({failed_serial_numbers})  \"\n",
    "            f\"AND lp.field_name IN ({field_names}) \"\n",
    "            f\"AND de.operation = 'SMST' \")\n",
    "\n",
    "cursor.execute(query_failedSNs)\n",
    "df_failed_drs:pd.DataFrame = cursor.fetch_dataframe()\n",
    "df_main = pd.concat([df_main, df_failed_drs])\n",
    "print(df_main.shape)\n",
    "cursor = conn.cursor()\n",
    "cursor.close()\n",
    "conn.close()"
   ]
  },
  {
   "cell_type": "markdown",
   "id": "d7749263-46a3-41b0-bae3-fb1ffa75a97f",
   "metadata": {
    "tags": []
   },
   "source": [
    "Pivot the table so that each field name becomes a column, grouped by the serial_number,test_date,instance"
   ]
  },
  {
   "cell_type": "code",
   "execution_count": null,
   "id": "31c02652-2eda-4316-8a4e-d3433b7c0afe",
   "metadata": {
    "execution": {
     "iopub.execute_input": "2024-01-23T19:00:09.195335Z",
     "iopub.status.busy": "2024-01-23T19:00:09.195335Z",
     "iopub.status.idle": "2024-01-23T19:02:24.293031Z",
     "shell.execute_reply": "2024-01-23T19:02:24.292020Z",
     "shell.execute_reply.started": "2024-01-23T19:00:09.195335Z"
    },
    "scrolled": true
   },
   "outputs": [],
   "source": [
    "df_main_pivot = df_main.pivot_table(index=['serial_number','part_number','operation','test_date','instance'], columns='field_name', values='field_value', aggfunc='first', fill_value=0)\n",
    "file_path = os.path.join(directory, 'df_main_pivot.csv')\n",
    "df_main_pivot.to_csv(file_path)\n",
    "df_main_pivot.shape"
   ]
  },
  {
   "cell_type": "markdown",
   "id": "8ff73ea2-6d6f-45b4-a109-1bac19a08f4e",
   "metadata": {
    "tags": []
   },
   "source": [
    "Move the power_on_hours column to the beginning of the field name columns"
   ]
  },
  {
   "cell_type": "code",
   "execution_count": null,
   "id": "2de923a8-4b25-400e-92bb-b2fdb363be1d",
   "metadata": {
    "execution": {
     "iopub.execute_input": "2024-01-23T19:02:48.060077Z",
     "iopub.status.busy": "2024-01-23T19:02:48.059077Z",
     "iopub.status.idle": "2024-01-23T19:02:48.184457Z",
     "shell.execute_reply": "2024-01-23T19:02:48.183447Z",
     "shell.execute_reply.started": "2024-01-23T19:02:48.060077Z"
    },
    "scrolled": true,
    "tags": []
   },
   "outputs": [],
   "source": [
    "columns = df_main_pivot.columns.tolist()\n",
    "columns.insert(0,columns.pop(columns.index('power_on_hours')))\n",
    "df_data = df_main_pivot.reindex(columns=columns)\n"
   ]
  },
  {
   "cell_type": "code",
   "execution_count": null,
   "id": "14dd8735",
   "metadata": {},
   "outputs": [],
   "source": [
    "df_data = df_data.sort_values(by=['test_date','serial_number'])\n",
    "df_data.shape"
   ]
  },
  {
   "cell_type": "markdown",
   "id": "afe22711",
   "metadata": {},
   "source": [
    "Flatten the column structure and reindex to simplify view of columns"
   ]
  },
  {
   "cell_type": "code",
   "execution_count": null,
   "id": "a236172c",
   "metadata": {},
   "outputs": [],
   "source": [
    "df_data.reset_index(inplace=True)\n",
    "df_data.columns.name = None\n",
    "df_data.shape"
   ]
  },
  {
   "cell_type": "code",
   "execution_count": null,
   "id": "5f4ad838",
   "metadata": {},
   "outputs": [],
   "source": [
    "idx = df_data.groupby(['serial_number', 'part_number', 'operation', 'test_date'])['power_on_hours'].idxmax()\n",
    "df_data_with_max_poh = df_data.loc[idx]\n",
    "df_data_with_max_poh.index = df_data_with_max_poh.index.to_flat_index()\n",
    "df_data_with_max_poh = df_data_with_max_poh.reset_index(drop=True)\n",
    "\n",
    "file_path = os.path.join(directory, 'df_data_with_max_poh.csv')\n",
    "df_data_with_max_poh.to_csv(file_path)\n"
   ]
  },
  {
   "cell_type": "code",
   "execution_count": null,
   "id": "81d3aeb7",
   "metadata": {},
   "outputs": [],
   "source": [
    "df_data_with_max_poh"
   ]
  },
  {
   "cell_type": "markdown",
   "id": "e15ff9ba",
   "metadata": {},
   "source": [
    "Adding Failed drives info"
   ]
  },
  {
   "cell_type": "code",
   "execution_count": null,
   "id": "aec31036",
   "metadata": {},
   "outputs": [],
   "source": [
    "df_data_with_max_poh['Is_Failed_Drive'] = 'no'\n",
    "for index, row in df_data_with_max_poh.iterrows():\n",
    "    if df_data_with_max_poh.at[index, 'serial_number'] in failed_serial_numbers_array:\n",
    "        df_data_with_max_poh.at[index, 'Is_Failed_Drive'] = 'yes'\n",
    "    else:\n",
    "        df_data_with_max_poh.at[index, 'Is_Failed_Drive'] = 'no'\n",
    "\n",
    "file_path = os.path.join(directory, 'df_data_with_max_poh_with_failure_info.csv')\n",
    "df_data_with_max_poh.to_csv(file_path)"
   ]
  },
  {
   "cell_type": "markdown",
   "id": "c53c4f23-5fe6-4723-9d85-f15c0d23e2b7",
   "metadata": {
    "tags": []
   },
   "source": [
    "Get nunique to show the number of unique values in each column"
   ]
  },
  {
   "cell_type": "code",
   "execution_count": null,
   "id": "fd760310-648f-455c-94fa-dcfbade9efb9",
   "metadata": {
    "execution": {
     "iopub.execute_input": "2024-01-23T19:03:08.854350Z",
     "iopub.status.busy": "2024-01-23T19:03:08.853350Z",
     "iopub.status.idle": "2024-01-23T19:03:08.957987Z",
     "shell.execute_reply": "2024-01-23T19:03:08.956977Z",
     "shell.execute_reply.started": "2024-01-23T19:03:08.854350Z"
    },
    "tags": []
   },
   "outputs": [],
   "source": [
    "nunique = df_data_with_max_poh.nunique()\n",
    "nunique.columns=['column','uniquevalues']\n",
    "nunique.to_csv('data_uniqueness.csv')\n",
    "nunique\n",
    "unique_percentages = (df_data_with_max_poh.nunique() / df_data_with_max_poh.shape[0]) * 100\n",
    "plt.figure(figsize=(10, 6))\n",
    "unique_percentages.plot(kind='bar', color='skyblue')\n",
    "plt.title('Percentage of Unique Values in Each Column')\n",
    "plt.xlabel('Columns')\n",
    "plt.ylabel('Percentage of Unique Values')\n",
    "plt.xticks(rotation=45)\n",
    "plt.grid(axis='y', linestyle='--', alpha=0.7)\n",
    "plt.tight_layout()\n",
    "plt.show()"
   ]
  },
  {
   "cell_type": "markdown",
   "id": "9e5c3076-4e0e-4400-8ddf-66ef6724f0cf",
   "metadata": {
    "tags": []
   },
   "source": [
    "Drop columns with a single unique value"
   ]
  },
  {
   "cell_type": "code",
   "execution_count": null,
   "id": "198fb49a-f808-461a-93ec-2f6471e7507e",
   "metadata": {
    "execution": {
     "iopub.execute_input": "2024-01-23T19:03:12.517973Z",
     "iopub.status.busy": "2024-01-23T19:03:12.517973Z",
     "iopub.status.idle": "2024-01-23T19:03:12.541194Z",
     "shell.execute_reply": "2024-01-23T19:03:12.540184Z",
     "shell.execute_reply.started": "2024-01-23T19:03:12.517973Z"
    },
    "scrolled": true
   },
   "outputs": [],
   "source": [
    "cols_to_drop = nunique[nunique == 1].index\n",
    "df_result = df_data.drop(cols_to_drop, axis=1)\n",
    "df_data_with_max_poh = df_data_with_max_poh.drop(cols_to_drop, axis=1)\n",
    "\n",
    "file_path = os.path.join(directory, 'df_data_with_max_poh.csv')\n",
    "\n",
    "df_data_with_max_poh.to_csv(file_path)"
   ]
  },
  {
   "cell_type": "code",
   "execution_count": null,
   "id": "1491528c",
   "metadata": {},
   "outputs": [],
   "source": [
    "df_data_with_max_poh.shape"
   ]
  },
  {
   "cell_type": "markdown",
   "id": "d717cff9",
   "metadata": {},
   "source": [
    "EDA"
   ]
  },
  {
   "cell_type": "code",
   "execution_count": null,
   "id": "d0e462a9",
   "metadata": {},
   "outputs": [],
   "source": [
    "df_data_with_max_poh.describe()"
   ]
  },
  {
   "cell_type": "code",
   "execution_count": null,
   "id": "f6516a3c",
   "metadata": {},
   "outputs": [],
   "source": [
    "nunique = df_data_with_max_poh.nunique()\n",
    "nunique.columns=['column','uniquevalues']\n",
    "unique_percentages = (df_data_with_max_poh.nunique() / df_data_with_max_poh.shape[0]) * 100\n",
    "plt.figure(figsize=(10, 6))\n",
    "unique_percentages.plot(kind='bar', color='skyblue')\n",
    "plt.title('Percentage of Unique Values in Each Column')\n",
    "plt.xlabel('Columns')\n",
    "plt.ylabel('Percentage of Unique Values')\n",
    "plt.xticks(rotation=45)\n",
    "plt.grid(axis='y', linestyle='--', alpha=0.7)\n",
    "plt.tight_layout()\n",
    "plt.show()"
   ]
  },
  {
   "cell_type": "code",
   "execution_count": null,
   "id": "0c6a6d93",
   "metadata": {},
   "outputs": [],
   "source": [
    "file_path = os.path.join(directory, 'data_uniqueness.csv')\n",
    "nunique.to_csv(file_path)\n",
    "\n",
    "\n",
    "file_path = os.path.join(directory, 'df_data_with_max_poh.csv')\n",
    "df_data_with_max_poh.to_csv('df_data_with_max_poh.csv')"
   ]
  },
  {
   "cell_type": "code",
   "execution_count": null,
   "id": "0ec8860d",
   "metadata": {},
   "outputs": [],
   "source": [
    "df_data_with_max_poh.shape"
   ]
  },
  {
   "cell_type": "markdown",
   "id": "352efc35",
   "metadata": {},
   "source": [
    "Limiting to columns listed on Confluence"
   ]
  },
  {
   "cell_type": "code",
   "execution_count": null,
   "id": "a39d1725",
   "metadata": {},
   "outputs": [],
   "source": [
    "with pd.option_context('display.float_format', lambda x: '%.2f' % x):\n",
    "    df_data_with_max_poh_desc = df_data_with_max_poh[['recycle_data_recovered_count','recycle_lpages_read','recycle_lpages_written','recycled_sb_due_to_fault','recycled_sb_due_to_read_disturb_audit_closed_block','recycled_sb_due_to_read_disturb_no_audit_when_only_WL0_written','recycled_sb_due_to_read_disturb_open_block_audit_on_alternate_WL','recycled_sb_due_to_read_disturb_open_block_when_target_read_on_WL_tierjoint','recycled_sb_due_to_read_error_recovery_deep_retry','recycled_sb_that_received_pre_program_erase_and_had_DI','recycled_sb_that_were_open_and_had_DI','recycled_sb_that_were_open_subset_that_received_pre_program_erase','recycled_sb_that_were_open_when_recycled','a2f_op_read_recovery_count','host_lpages_recovered_with_frame_FP_Worker0','host_lpages_recovered_with_frame_FP_Worker1','host_lpages_recovered_with_read_retries_FP_Worker0','host_lpages_recovered_with_read_retries_FP_Worker1','host_read_recovered_count','read_recovery_fail_count_recipe_01_proceed_to_FRAME','read_recovery_fm0_sl0_ch0','read_recovery_fm0_sl0_ch1','read_recovery_fm0_sl0_ch2','read_recovery_fm0_sl0_ch3','read_recovery_fm0_sl1_ch0','read_recovery_fm0_sl1_ch1','read_recovery_fm0_sl1_ch2','read_recovery_lower_page_lpage_retry_count','read_recovery_middle_page_lpage_retry_count','read_recovery_pMLC_lpage_retry_count','read_recovery_page_count_1st_highest','read_recovery_page_count_2nd_highest','read_recovery_page_number_1st_highest','read_recovery_page_number_2nd_highest','read_recovery_page_number_3rd_highest','read_recovery_retry_attempt_count_during_erase_suspend','read_recovery_success_count_recipe_01_bes_hard_read','read_recovery_success_count_recipe_01_cmd_CF','read_recovery_success_count_recipe_01_dynamic_read_shallow','read_recovery_success_count_recipe_01_soft_read','read_recovery_total_retry_attempt_count','read_recovery_upper_page_lpage_retry_count','glist_grown_blocks_for_frame','glist_grown_blocks_for_program_fail','grown_blocks_for_erase_fail','grown_blocks_for_frame','grown_blocks_for_program_fail','drive_average_ber','lower_page_average_ber','middle_page_average_ber','upper_page_average_ber','ifs_read_error_counts_nand','p0_smart_error_logs','ifs_erase_counts_nand','read_fbc_warning_threshold_exceeded','smart_warning_composite_temperature_time','case_composite_temperature','max_case_composite_temperature','drive_life_remaining','fe_core_voltage','fe_process','fe_temperature_sensor','life_used_percentage_x100','life_used_percentage_x100_internal','p0_smart_safe_shutdowns','num_discharge_tests_run_since_factory','zq_calibration_issued_to_die_count','pfail']].describe()\n",
    "    print (df_data_with_max_poh_desc)"
   ]
  },
  {
   "cell_type": "code",
   "execution_count": null,
   "id": "0c7ae25f",
   "metadata": {},
   "outputs": [],
   "source": [
    "f_data = df_data_with_max_poh[['recycle_data_recovered_count','recycle_lpages_read','recycle_lpages_written','recycled_sb_due_to_fault','recycled_sb_due_to_read_disturb_audit_closed_block','recycled_sb_due_to_read_disturb_no_audit_when_only_WL0_written','recycled_sb_due_to_read_disturb_open_block_audit_on_alternate_WL','recycled_sb_due_to_read_disturb_open_block_when_target_read_on_WL_tierjoint','recycled_sb_due_to_read_error_recovery_deep_retry','recycled_sb_that_received_pre_program_erase_and_had_DI','recycled_sb_that_were_open_and_had_DI','recycled_sb_that_were_open_subset_that_received_pre_program_erase','recycled_sb_that_were_open_when_recycled','a2f_op_read_recovery_count','host_lpages_recovered_with_frame_FP_Worker0','host_lpages_recovered_with_frame_FP_Worker1','host_lpages_recovered_with_read_retries_FP_Worker0','host_lpages_recovered_with_read_retries_FP_Worker1','host_read_recovered_count','read_recovery_fail_count_recipe_01_proceed_to_FRAME','read_recovery_fm0_sl0_ch0','read_recovery_fm0_sl0_ch1','read_recovery_fm0_sl0_ch2','read_recovery_fm0_sl0_ch3','read_recovery_fm0_sl1_ch0','read_recovery_fm0_sl1_ch1','read_recovery_fm0_sl1_ch2','read_recovery_lower_page_lpage_retry_count','read_recovery_middle_page_lpage_retry_count','read_recovery_pMLC_lpage_retry_count','read_recovery_page_count_1st_highest','read_recovery_page_count_2nd_highest','read_recovery_page_number_1st_highest','read_recovery_page_number_2nd_highest','read_recovery_page_number_3rd_highest','read_recovery_retry_attempt_count_during_erase_suspend','read_recovery_success_count_recipe_01_bes_hard_read','read_recovery_success_count_recipe_01_cmd_CF','read_recovery_success_count_recipe_01_dynamic_read_shallow','read_recovery_success_count_recipe_01_soft_read','read_recovery_total_retry_attempt_count','read_recovery_upper_page_lpage_retry_count','glist_grown_blocks_for_frame','glist_grown_blocks_for_program_fail','grown_blocks_for_erase_fail','grown_blocks_for_frame','grown_blocks_for_program_fail','drive_average_ber','lower_page_average_ber','middle_page_average_ber','upper_page_average_ber','ifs_read_error_counts_nand','p0_smart_error_logs','ifs_erase_counts_nand','read_fbc_warning_threshold_exceeded','smart_warning_composite_temperature_time','case_composite_temperature','max_case_composite_temperature','drive_life_remaining','fe_core_voltage','fe_process','fe_temperature_sensor','life_used_percentage_x100','life_used_percentage_x100_internal','p0_smart_safe_shutdowns','num_discharge_tests_run_since_factory','zq_calibration_issued_to_die_count','pfail']]\n",
    "file_path = os.path.join(directory, 'f_data.csv')\n",
    "f_data.to_csv(file_path)\n",
    "f_data.shape"
   ]
  },
  {
   "cell_type": "code",
   "execution_count": null,
   "id": "78f72cd4",
   "metadata": {},
   "outputs": [],
   "source": [
    "f_data.describe()"
   ]
  },
  {
   "cell_type": "code",
   "execution_count": null,
   "id": "2dc34074",
   "metadata": {},
   "outputs": [],
   "source": [
    "nuniquef_data = f_data.nunique()\n",
    "nuniquef_data.columns=['column','uniquevalues']\n",
    "unique_percentages = (f_data.nunique() / f_data.shape[0]) * 100\n",
    "plt.figure(figsize=(10, 6))\n",
    "unique_percentages.plot(kind='bar', color='skyblue')\n",
    "plt.title('Percentage of Unique Values in Each Column on FINAL DATA')\n",
    "plt.xlabel('Columns')\n",
    "plt.ylabel('Percentage of Unique Values')\n",
    "plt.xticks(rotation=45)\n",
    "plt.grid(axis='y', linestyle='--', alpha=0.7)\n",
    "plt.tight_layout()\n",
    "plt.show()"
   ]
  },
  {
   "cell_type": "code",
   "execution_count": null,
   "id": "e45341be",
   "metadata": {},
   "outputs": [],
   "source": [
    "f_data_corr= f_data.corr()\n",
    "plt.imshow(f_data_corr, cmap='viridis', interpolation='nearest')\n",
    "plt.colorbar()  \n",
    "plt.title('Correlation Matrix')\n",
    "plt.show()"
   ]
  },
  {
   "cell_type": "markdown",
   "id": "3743eab9",
   "metadata": {},
   "source": [
    "Correlation between features"
   ]
  },
  {
   "cell_type": "code",
   "execution_count": null,
   "id": "666317d7",
   "metadata": {},
   "outputs": [],
   "source": [
    "plt.figure(figsize=(50, 50))  \n",
    "sns.heatmap(f_data_corr, annot=True, fmt=\".2f\", cmap='coolwarm',\n",
    "            xticklabels=f_data_corr.columns,\n",
    "            yticklabels=f_data_corr.columns)\n",
    "plt.title('Correlation Matrix with Column Names')\n",
    "plt.show()"
   ]
  },
  {
   "cell_type": "markdown",
   "id": "95ec995a",
   "metadata": {},
   "source": [
    "MinMax Scaler (Normalization)"
   ]
  },
  {
   "cell_type": "code",
   "execution_count": null,
   "id": "c238717c",
   "metadata": {},
   "outputs": [],
   "source": [
    "min_max_scaler = MinMaxScaler()\n",
    "min_max_scaler.fit(f_data)\n",
    "min_max_scaler_data = min_max_scaler.transform(f_data)\n",
    "min_max_scaler_data.shape"
   ]
  },
  {
   "cell_type": "markdown",
   "id": "9e7cdb4b",
   "metadata": {},
   "source": [
    "USING ISOLATION FOREST ALOGRITHM"
   ]
  },
  {
   "cell_type": "code",
   "execution_count": null,
   "id": "92a40cef",
   "metadata": {},
   "outputs": [],
   "source": [
    "iso_forest = IsolationForest(n_estimators=69, contamination=0.01, random_state=81)\n",
    "iso_forest.fit(min_max_scaler_data)\n",
    "\n",
    "predictions = iso_forest.predict(min_max_scaler_data)"
   ]
  },
  {
   "cell_type": "code",
   "execution_count": null,
   "id": "49125773",
   "metadata": {},
   "outputs": [],
   "source": [
    "anomalies = min_max_scaler_data[predictions == -1]\n",
    "anomalies.shape"
   ]
  },
  {
   "cell_type": "code",
   "execution_count": null,
   "id": "3f11fa18",
   "metadata": {},
   "outputs": [],
   "source": [
    "predictions_df = pd.DataFrame(predictions, columns=['Predictions'])\n",
    "print(predictions_df)\n",
    "df_data_with_max_poh_iso = pd.DataFrame(df_data_with_max_poh)\n",
    "df_data_with_max_poh_iso['Predictions'] = 0\n",
    "for index, row in df_data_with_max_poh_iso.iterrows():\n",
    "    df_data_with_max_poh_iso.at[index, 'Predictions'] = predictions_df.at[index, 'Predictions']\n",
    "\n",
    "file_path = os.path.join(directory, 'df_data_with_max_poh_iso.csv')\n",
    "df_data_with_max_poh_iso.to_csv(file_path)\n"
   ]
  },
  {
   "cell_type": "markdown",
   "id": "1a84de3f",
   "metadata": {},
   "source": [
    "USING K_MEANS ALGORITHM"
   ]
  },
  {
   "cell_type": "code",
   "execution_count": null,
   "id": "b8ad4c1d",
   "metadata": {},
   "outputs": [],
   "source": [
    "wcss = []\n",
    "for i in range(1, 11):\n",
    "    kmeans = KMeans(n_clusters=i, init='k-means++', max_iter=300, n_init=10, random_state=0)\n",
    "    kmeans.fit(min_max_scaler_data)\n",
    "    wcss.append(kmeans.inertia_)\n",
    "\n",
    "plt.plot(range(1, 11), wcss)\n",
    "plt.title('Elbow Method')\n",
    "plt.xlabel('Number of clusters')\n",
    "plt.ylabel('WCSS')\n",
    "plt.show()\n"
   ]
  },
  {
   "cell_type": "code",
   "execution_count": null,
   "id": "238840c2",
   "metadata": {},
   "outputs": [],
   "source": [
    "\n",
    "k = 3\n",
    "kmeans = KMeans(n_clusters=k, init='k-means++', n_init=9)\n",
    "kmeans.fit(min_max_scaler_data)\n",
    "centroids = kmeans.cluster_centers_\n",
    "labels = kmeans.labels_\n",
    "kmeans_cluster_labels = labels\n",
    "kmeans_labeled_data = [(point, label) for point, label in zip(min_max_scaler_data, labels)]\n",
    "print(len(min_max_scaler_data[labels == 0]),len(min_max_scaler_data[labels == 1]),len(min_max_scaler_data[labels == 2]),len(min_max_scaler_data[labels == 3]))\n",
    "print(len(labels))\n",
    "[(point, label) for point, label in zip(min_max_scaler_data, labels)]\n",
    "plt.figure(figsize=(7, 7))\n",
    "for i in range(k):\n",
    "    cluster_points = min_max_scaler_data[labels == i]\n",
    "    plt.scatter(cluster_points[:, 0], cluster_points[:, 1], label=f'Cluster {i+1}')\n",
    "\n",
    "plt.scatter(centroids[:, 0], centroids[:, 1], color='red', marker='x', s=100, label='Centroids')\n",
    "plt.title('K-Means Clustering')\n",
    "plt.xlabel('X')\n",
    "plt.ylabel('Y')\n",
    "plt.legend()\n",
    "plt.grid(True)\n",
    "plt.show()\n"
   ]
  },
  {
   "cell_type": "code",
   "execution_count": null,
   "id": "6079a67d",
   "metadata": {},
   "outputs": [],
   "source": [
    "df_data_with_max_poh_kmeans = pd.DataFrame(df_data_with_max_poh_iso)\n",
    "df_data_with_max_poh_kmeans['Clusters'] = 0\n",
    "for index, row in df_data_with_max_poh_kmeans.iterrows():\n",
    "    df_data_with_max_poh_kmeans.at[index, 'Clusters'] = labels[index]\n",
    "file_path = os.path.join(directory, 'df_data_with_max_poh_kmeans.csv')\n",
    "df_data_with_max_poh_kmeans.to_csv(file_path)"
   ]
  },
  {
   "cell_type": "code",
   "execution_count": null,
   "id": "81c4f628",
   "metadata": {},
   "outputs": [],
   "source": [
    "iso_labels = df_data_with_max_poh_kmeans[\"Predictions\"]\n",
    "iso_labels.replace(-1,0, inplace=True)\n",
    "iso_label_counts = np.bincount(iso_labels)\n",
    "plt.figure(figsize=(8, 6))\n",
    "plt.pie(iso_label_counts, labels=np.unique(iso_labels), autopct='%1.1f%%', startangle=140)\n",
    "plt.title('Pie chart of anamolies from ISOForest')\n",
    "plt.show()"
   ]
  },
  {
   "cell_type": "code",
   "execution_count": null,
   "id": "ccd4f475",
   "metadata": {},
   "outputs": [],
   "source": [
    "label_counts = np.bincount(labels)\n",
    "plt.figure(figsize=(8, 6))\n",
    "plt.pie(label_counts, labels=np.unique(labels), autopct='%1.1f%%', startangle=140)\n",
    "plt.title('Pie Chart of K-means Clustering Labels')\n",
    "plt.show()"
   ]
  },
  {
   "cell_type": "markdown",
   "id": "f3f15973",
   "metadata": {},
   "source": [
    "ISOLATION FOREST WITH HYPERPARAMS"
   ]
  },
  {
   "cell_type": "code",
   "execution_count": null,
   "id": "d64414e2",
   "metadata": {},
   "outputs": [],
   "source": [
    "iso_forest_1 = IsolationForest(n_estimators=69, contamination=0.01, random_state=99, max_features=1.0, max_samples=1.0)\n",
    "iso_forest_1.fit_predict(min_max_scaler_data)\n",
    "\n",
    "predictions_1 = iso_forest_1.predict(min_max_scaler_data)\n",
    "anomalies = min_max_scaler_data[predictions_1 == -1]\n",
    "anomalies.shape\n",
    "\n",
    "predictions_df_1 = pd.DataFrame(predictions_1, columns=['Predictions'])\n",
    "df_data_with_max_poh_iso = pd.DataFrame(df_data_with_max_poh)\n",
    "df_data_with_max_poh_iso['iso_forest_1_Predictions'] = 0\n",
    "for index, row in df_data_with_max_poh_iso.iterrows():\n",
    "    df_data_with_max_poh_iso.at[index, 'iso_forest_1_Predictions'] = predictions_df_1.at[index, 'Predictions']\n",
    "    df_data_with_max_poh_iso.at[index, 'Predictions'] = predictions_df.at[index, 'Predictions']\n",
    "\n",
    "file_path = os.path.join(directory, 'df_data_with_max_poh_iso_forest_1.csv')\n",
    "df_data_with_max_poh_iso.to_csv(file_path)"
   ]
  },
  {
   "cell_type": "code",
   "execution_count": null,
   "id": "42bcfd22",
   "metadata": {},
   "outputs": [],
   "source": [
    "# Data setup\n",
    "# labels = df_data_with_max_poh_iso['serial_number']\n",
    "# features_x = df_data_with_max_poh_iso['Predictions']\n",
    "# features_y = df_data_with_max_poh_iso['iso_forest_1_Predictions']\n",
    "\n",
    "# x = np.arange(len(labels))  # Label locations\n",
    "# width = 0.35  # Width of the bars\n",
    "\n",
    "# fig, ax = plt.subplots(figsize=(10, 6))\n",
    "# rects1 = ax.bar(x - width/2, features_x, width, label='Feature X')\n",
    "# rects2 = ax.bar(x + width/2, features_y, width, label='Feature Y')\n",
    "\n",
    "# # Add some text for labels, title, and custom x-axis tick labels, etc.\n",
    "# ax.set_ylabel('Values')\n",
    "# ax.set_title('Values of Features X and Y for Each Label')\n",
    "# # ax.set_xticks(x)\n",
    "# # ax.set_xticklabels(labels)\n",
    "# # ax.legend()\n",
    "\n",
    "# # Function to attach a text label above each bar, displaying its height.\n",
    "# # def autolabel(rects):\n",
    "# #     \"\"\"Attach a text label above each bar in *rects*, displaying its height.\"\"\"\n",
    "# #     for rect in rects:\n",
    "# #         height = rect.get_height()\n",
    "# #         ax.annotate('{}'.format(height),\n",
    "# #                     xy=(rect.get_x() + rect.get_width() / 2, height),\n",
    "# #                     xytext=(0, 3),  # 3 points vertical offset\n",
    "# #                     textcoords=\"offset points\",\n",
    "# #                     ha='center', va='bottom')\n",
    "\n",
    "# # autolabel(rects1)\n",
    "# # autolabel(rects2)\n",
    "\n",
    "# fig.tight_layout()\n",
    "\n",
    "# plt.show()\n"
   ]
  },
  {
   "cell_type": "markdown",
   "id": "2a0b401f",
   "metadata": {},
   "source": [
    "ISOLATION FOREST ALGORITHM WITH HYPERPARAMETER TUNNING # 2"
   ]
  },
  {
   "cell_type": "code",
   "execution_count": null,
   "id": "552808e8",
   "metadata": {},
   "outputs": [],
   "source": [
    "iso_forest_2 = IsolationForest(n_estimators=200, contamination=0.01, random_state=18, max_features=1.0, max_samples=1.0)\n",
    "iso_forest_2.fit(min_max_scaler_data)\n",
    "\n",
    "predictions_2 = iso_forest_2.predict(min_max_scaler_data)\n",
    "anomalies = min_max_scaler_data[predictions_2 == -1]\n",
    "anomalies.shape\n",
    "\n",
    "predictions_df_2 = pd.DataFrame(predictions_2, columns=['Predictions'])\n",
    "df_data_with_max_poh_iso = pd.DataFrame(df_data_with_max_poh)\n",
    "df_data_with_max_poh_iso['iso_forest_2_Predictions'] = 0\n",
    "for index, row in df_data_with_max_poh_iso.iterrows():\n",
    "    df_data_with_max_poh_iso.at[index, 'Predictions'] = predictions_df.at[index, 'Predictions']\n",
    "    df_data_with_max_poh_iso.at[index, 'iso_forest_1_Predictions'] = predictions_df_1.at[index, 'Predictions']\n",
    "    df_data_with_max_poh_iso.at[index, 'iso_forest_2_Predictions'] = predictions_df_2.at[index, 'Predictions']\n",
    "\n",
    "file_path = os.path.join(directory, 'df_data_with_max_poh_iso_forest_2.csv')\n",
    "df_data_with_max_poh_iso.to_csv(file_path)"
   ]
  },
  {
   "cell_type": "code",
   "execution_count": null,
   "id": "1ebfd962",
   "metadata": {},
   "outputs": [],
   "source": [
    "ee_model = EllipticEnvelope(support_fraction=1., contamination=0.1)\n",
    "ee_model.fit(min_max_scaler_data)\n",
    "predictions_ee = ee_model.predict(min_max_scaler_data)\n",
    "print(predictions_ee)\n",
    "mahalanobis_distances = ee_model.mahalanobis(min_max_scaler_data)\n",
    "\n",
    "predictions_ee = pd.DataFrame(predictions_ee, columns=['Predictions'])\n",
    "df_data_with_max_poh_iso = pd.DataFrame(df_data_with_max_poh)\n",
    "df_data_with_max_poh_iso['EllipticEnvelope_Predictions'] = 0\n",
    "for index, row in df_data_with_max_poh_iso.iterrows():\n",
    "    df_data_with_max_poh_iso.at[index, 'Predictions'] = predictions_df.at[index, 'Predictions']\n",
    "    df_data_with_max_poh_iso.at[index, 'iso_forest_1_Predictions'] = predictions_df_1.at[index, 'Predictions']\n",
    "    df_data_with_max_poh_iso.at[index, 'iso_forest_2_Predictions'] = predictions_df_2.at[index, 'Predictions']\n",
    "    df_data_with_max_poh_iso.at[index, 'EllipticEnvelope_Predictions'] = predictions_ee.at[index, 'Predictions']\n",
    "\n",
    "file_path = os.path.join(directory, 'df_data_with_max_poh_iso_forest_1_2_n_ee.csv')\n",
    "df_data_with_max_poh_iso.to_csv(file_path)"
   ]
  },
  {
   "cell_type": "markdown",
   "id": "e161a56b",
   "metadata": {},
   "source": [
    "Local Outlier Factor ALGORITHM"
   ]
  },
  {
   "cell_type": "code",
   "execution_count": null,
   "id": "a72c23be",
   "metadata": {},
   "outputs": [],
   "source": [
    "\n",
    "# Initialize the LOF model\n",
    "lof = LocalOutlierFactor(n_neighbors=36999, novelty=False)\n",
    "\n",
    "# Fit the model and predict outliers\n",
    "lof_y_pred = lof.fit_predict(min_max_scaler_data)\n",
    "\n",
    "# Find the number of outliers detected\n",
    "n_outliers = (lof_y_pred == -1).sum()\n",
    "print(f\"Number of outliers detected: {n_outliers}\")\n",
    "\n",
    "\n",
    "predictions_lof = pd.DataFrame(lof_y_pred, columns=['Predictions'])\n",
    "df_data_with_max_poh_iso = pd.DataFrame(df_data_with_max_poh)\n",
    "df_data_with_max_poh_iso['LOF_Predictions'] = 0\n",
    "for index, row in df_data_with_max_poh_iso.iterrows():\n",
    "    df_data_with_max_poh_iso.at[index, 'Predictions'] = predictions_df.at[index, 'Predictions']\n",
    "    df_data_with_max_poh_iso.at[index, 'iso_forest_1_Predictions'] = predictions_df_1.at[index, 'Predictions']\n",
    "    df_data_with_max_poh_iso.at[index, 'iso_forest_2_Predictions'] = predictions_df_2.at[index, 'Predictions']\n",
    "    df_data_with_max_poh_iso.at[index, 'LOF_Predictions'] = predictions_lof.at[index, 'Predictions']\n",
    "    df_data_with_max_poh_iso.at[index, 'EllipticEnvelope_Predictions'] = predictions_ee.at[index, 'Predictions']\n",
    "    df_data_with_max_poh_iso.at[index, 'Clusters'] = kmeans_cluster_labels[index]\n",
    "file_path = os.path.join(directory, 'df_data_with_max_poh_iso_forest_1_2_n_ee_lof.csv')\n",
    "df_data_with_max_poh_iso.to_csv(file_path)\n",
    "\n",
    "\n",
    "# plt.scatter(df_data_with_max_poh_iso['serial_number'], df_data_with_max_poh_iso['LOF_Predictions'], color=np.where(lof_y_pred == -1, 'r', 'b'))\n",
    "# plt.title(\"Local Outlier Factor (LOF)\")\n",
    "# plt.xlabel(\"Feature 1\")\n",
    "# plt.ylabel(\"Feature 2\")\n",
    "# plt.show()"
   ]
  },
  {
   "cell_type": "markdown",
   "id": "9197de51",
   "metadata": {},
   "source": [
    "ONECLASS SVM ALGORITHM"
   ]
  },
  {
   "cell_type": "code",
   "execution_count": null,
   "id": "deb13910",
   "metadata": {},
   "outputs": [],
   "source": [
    "\n",
    "ocsvm = OneClassSVM(nu=0.1, kernel=\"rbf\", gamma=0.1)\n",
    "\n",
    "ocsvm.fit(min_max_scaler_data)\n",
    "pred_oneSVM = ocsvm.predict(min_max_scaler_data)\n",
    "\n",
    "# Plot the data\n",
    "plt.scatter(min_max_scaler_data[:, 0], min_max_scaler_data[:, 1], c=pred_oneSVM, cmap='coolwarm')\n",
    "plt.title(\"OneClassSVM for Anomaly Detection\")\n",
    "plt.show()\n",
    "\n",
    "\n",
    "\n",
    "predictions_oneSVM = pd.DataFrame(pred_oneSVM, columns=['Predictions'])\n",
    "df_data_with_max_poh_iso = pd.DataFrame(df_data_with_max_poh)\n",
    "df_data_with_max_poh_iso['LOF_Predictions'] = 0\n",
    "for index, row in df_data_with_max_poh_iso.iterrows():\n",
    "    df_data_with_max_poh_iso.at[index, 'Predictions'] = predictions_df.at[index, 'Predictions']\n",
    "    df_data_with_max_poh_iso.at[index, 'iso_forest_1_Predictions'] = predictions_df_1.at[index, 'Predictions']\n",
    "    df_data_with_max_poh_iso.at[index, 'iso_forest_2_Predictions'] = predictions_df_2.at[index, 'Predictions']\n",
    "    df_data_with_max_poh_iso.at[index, 'EllipticEnvelope_Predictions'] = predictions_ee.at[index, 'Predictions']\n",
    "    df_data_with_max_poh_iso.at[index, 'LOF_Predictions'] = predictions_lof.at[index, 'Predictions']\n",
    "    df_data_with_max_poh_iso.at[index, 'ONESVM_Predictions'] = predictions_oneSVM.at[index, 'Predictions']\n",
    "    df_data_with_max_poh_iso.at[index, 'Clusters'] = kmeans_cluster_labels[index]\n",
    "\n",
    "file_path = os.path.join(directory, 'df_data_with_max_poh_iso_forest_1_2_n_ee_lof_onesvm_kmeans.csv')\n",
    "df_data_with_max_poh_iso.to_csv(file_path)\n",
    "\n"
   ]
  },
  {
   "cell_type": "code",
   "execution_count": null,
   "id": "bcb17e79",
   "metadata": {},
   "outputs": [],
   "source": [
    "# f_data_df = pd.DataFrame(f_data)\n",
    "# column_names = f_data.columns\n",
    "# # Plotting\n",
    "# c = 0\n",
    "# plt.figure()  # Create a new figure for each plot\n",
    "# for  column_name in f_data_df.columns:\n",
    "#     plt.scatter(f_data_df.index, f_data_df[column_name])  # Use DataFrame index as x values\n",
    "#     plt.title(f'Scatter plot of {column_names[c]}')\n",
    "#     plt.xlabel('Index')\n",
    "#     plt.ylabel(column_name)\n",
    "#     plt.show()\n",
    "#     c = c + 1"
   ]
  }
 ],
 "metadata": {
  "kernelspec": {
   "display_name": "Python 3 (ipykernel)",
   "language": "python",
   "name": "python3"
  },
  "language_info": {
   "codemirror_mode": {
    "name": "ipython",
    "version": 3
   },
   "file_extension": ".py",
   "mimetype": "text/x-python",
   "name": "python",
   "nbconvert_exporter": "python",
   "pygments_lexer": "ipython3",
   "version": "3.10.11"
  }
 },
 "nbformat": 4,
 "nbformat_minor": 5
}
