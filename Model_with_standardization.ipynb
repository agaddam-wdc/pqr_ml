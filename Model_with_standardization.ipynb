{
 "cells": [
  {
   "cell_type": "markdown",
   "id": "72ac7cf9-264e-4479-8d52-f524b1c61d3a",
   "metadata": {
    "tags": []
   },
   "source": [
    "All imports"
   ]
  },
  {
   "cell_type": "code",
   "execution_count": null,
   "id": "4ec4a994",
   "metadata": {},
   "outputs": [],
   "source": [
    "import numpy as np\n",
    "import pandas as pd\n",
    "import matplotlib.pyplot as plt\n",
    "import redshift_connector\n",
    "import seaborn as sns\n",
    "import os\n",
    "\n",
    "from sklearn.preprocessing import StandardScaler, MinMaxScaler\n",
    "from sklearn.decomposition import PCA\n",
    "from sklearn.ensemble import IsolationForest\n",
    "from sklearn.cluster import KMeans\n"
   ]
  },
  {
   "cell_type": "code",
   "execution_count": null,
   "id": "acd11d76",
   "metadata": {},
   "outputs": [],
   "source": [
    "\n",
    "# Specify the directory path where you want to save the CSV file\n",
    "directory = 'StandardScaler'\n",
    "\n",
    "# Create the directory if it doesn't exist\n",
    "if not os.path.exists(directory):\n",
    "    os.makedirs(directory)"
   ]
  },
  {
   "cell_type": "markdown",
   "id": "0750ea64",
   "metadata": {},
   "source": [
    "Connect to DB and fetch data"
   ]
  },
  {
   "cell_type": "code",
   "execution_count": null,
   "id": "aceda4f5-0165-405b-9756-057976d12e90",
   "metadata": {
    "execution": {
     "iopub.execute_input": "2024-01-23T18:39:15.882910Z",
     "iopub.status.busy": "2024-01-23T18:39:15.881909Z",
     "iopub.status.idle": "2024-01-23T18:58:58.608053Z",
     "shell.execute_reply": "2024-01-23T18:58:58.608053Z",
     "shell.execute_reply.started": "2024-01-23T18:39:15.882910Z"
    },
    "tags": []
   },
   "outputs": [],
   "source": [
    "conn = redshift_connector.connect(\n",
    "    host='abcd',\n",
    "    port=5439,\n",
    "    database='abcd',\n",
    "    user='abcd',\n",
    "    password='abcd'\n",
    ")\n",
    "cursor = conn.cursor()\n",
    "df_main = pd.DataFrame()\n",
    "\n",
    "de_fields = \"de.serial_number,de.part_number,de.operation,de.test_date\"\n",
    "lp_fields = \"lp.field_name,lp.field_value,lp.time_pulled,lp.instance\"\n",
    "model_values = \"'WUS4BB096D7P3E3','WUS4BB019D7P3E3','WUS4BB038D7P3E3','WUS4BB076D7P3E3','WUS4BB096D7P3E3','WUS4BB019D7P3E3','WUS4BB038D7P3E3','WUS4BB076D7P3E3','WDC-WUS4EB016D7P3E3',\"\\\n",
    "               \"'WUS4CB080D7P3E3','WUS4CB016D7P3E3','WUS4CB032D7P3E3','WUS4CB064D7P3E3','WUS4BB096D7P3E1','WUS4BB019D7P3E1','WUS4BB038D7P3E1','WUS4BB076D7P3E1','WUS4BB096D7P3E3',\"\\\n",
    "               \"'WUS4BB019D7P3E1','WUS4BB038D7P3E1','WUS4CB032D7P3E3','WUS4BB096D7P3E3','WUS4BB019D7P3E3','WUS4BB038D7P3E3','WUS4BB076D7P3E3','WUS4CB080D7P3E3','WUS4CB016D7P3E3',\"\\\n",
    "               \"'WUS4CB032D7P3E3','WUS4CB064D7P3E3','WDC-WDS192T1D0D-01AJB0','WDC-WDS192T1DVD-02AJC0'',''WDC-WDS384T1D0D-01AJB0','WDC-WDS384T1DVD-02AJC0','WDC-WDS768T1D0D-01AJB0',\"\\\n",
    "               \"'WDC-WDS768T1DVD-02AJC0','WDC-WDS960G1D0D-01AJB0','WDC-WDS960G1DVD-02AJC0','WUS4BB076D7P3E3','WUS4CB080D7P3E3','WUS4CB016D7P3E3','WUS4BB096D7P3E3','WUS4BB038D7P3E3',\"\\\n",
    "               \"'WUS4CB032D7P3E3','WUS4CB064D7P3E3','WUS4BB019D7P3E3','WUS4BB038D7P3E3','WUS4BB076D7P3E3','WUS4CB032D7P3E3','WUS4BB019D7P3E1','WUS4BB038D7P3E1','WUS4BB076D7P3E1',\"\\\n",
    "               \"'WUS4BB076D7P3E3','WUS4BB096D4M9E3','WUS4BB019D4M9E3','WUS4BB038D4M9E3','WUS4BB096D4M9E3','WUS4BB019D4M9E3','WUS4BB038D4M9E3','WUS4CB080D7P3E3','WUS4BB019D7P3E3',\"\\\n",
    "               \"'WUS4BB038D7P3E3','WUS4CB064D7P3E3','WUS4AB076D9ELE3','WUS4AB0A1D9ELE3','WUS4AB0A1DAELE7','WUS4AB076D9ELE7','WUS4AB0A1D9ELE8','WUS4BB096D7P3E4','WUS4BB019D7P3E4',\"\\\n",
    "               \"'WUS4BB038D7P3E4','WUS4BB076D7P3E4','WUS4CB080D7P3E4','WUS4CB016D7P3E4','WUS4CB032D7P3E4','WUS4CB064D7P3E4','WUS4BB096D7P3E4','WUS4BB019D7P3E4','WUS4BB076D7P3E4',\"\\\n",
    "               \"'WUS4BB096D4MBE6','WUS4BB019D4MBE6','WUS4BB038D4MBE6','WUS4BB038D4M9E7','WUS4BB019D4M9E7','WUS4BB019DJESE7','WUS4BB038DJESE7',\"\\\n",
    "               \"'0TS1927','0TS1928','0TS1929','0TS1930','0TS1992','0TS1993','0TS1994','0TS1995','0TS2226','0TS1952','0TS1953','0TS1954','0TS1955','0TS1960','0TS1961','0TS1962','0TS1963',\"\\\n",
    "               \"'0TS2162','0TS2163','0TS2164','0TS2165','0TS2184','0TS2185','0TS2186','0TS2187','0TS2188','0TS2189','0TS2190','0TS2191',\"\\\n",
    "               \"'WDS192T1D0D-01AJB0','WDS192T1DVD-02AJC0','WDS384T1D0D-01AJB0','WDS384T1DVD-02AJC0','WDS768T1D0D-01AJB0','WDS768T1DVD-02AJC0','WDS960G1D0D-01AJB0','WDS960G1DVD-02AJC0',\"\\\n",
    "               \"'0TS2346','0TS2350','0TS2351','0TS2347','0TS2348','0TS2379','0TS2380','0TS1928','0TS1929','0TS1930','0TS1954','0TS2389','0TS2390','0TS2391','0TS2414','0TS1861','0TS1862',\"\\\n",
    "               \"'0TS1863','0TS1996','0TS1997','0TS1998','0TS2086','0TS2087','0TS2088','0TS2089','0TS2122','0TS2123','0TS2003','0TS2125','0TS2126','0TS1849','0TS1850','0TS1851','0TS1852',\"\\\n",
    "               \"'0TS1854','0TS1855','0TS1856','0TS1857','0TS2110','0TS2111','0TS2349','0TS2231','0TS2232','0TS2233','0TS2381','0TS2000','0TS2229','0TS2230'\"\n",
    "field_names = \"'power_on_hours','recycle_data_recovered_count','recycle_lpages_read','recycle_lpages_written','recycled_sb_due_to_fault','recycled_sb_due_to_read_disturb_audit_closed_block','recycled_sb_due_to_read_disturb_no_audit_when_only_WL0_written','recycled_sb_due_to_read_disturb_open_block_audit_on_alternate_WL','recycled_sb_due_to_read_disturb_open_block_when_target_read_on_WL_tierjoint','recycled_sb_due_to_read_error_recovery_deep_retry','recycled_sb_that_received_pre_program_erase_and_had_DI','recycled_sb_that_were_open_and_had_DI','recycled_sb_that_were_open_subset_that_received_pre_program_erase','recycled_sb_that_were_open_when_recycled','a2f_op_read_recovery_count','host_lpages_recovered_with_frame_FP_Worker0','host_lpages_recovered_with_frame_FP_Worker1','host_lpages_recovered_with_read_retries_FP_Worker0','host_lpages_recovered_with_read_retries_FP_Worker1','host_read_recovered_count','read_recovery_fail_count_recipe_01_proceed_to_FRAME','read_recovery_fm0_sl0_ch0','read_recovery_fm0_sl0_ch1','read_recovery_fm0_sl0_ch2','read_recovery_fm0_sl0_ch3','read_recovery_fm0_sl1_ch0','read_recovery_fm0_sl1_ch1','read_recovery_fm0_sl1_ch2','read_recovery_lower_page_lpage_retry_count','read_recovery_middle_page_lpage_retry_count','read_recovery_pMLC_lpage_retry_count','read_recovery_page_count_1st_highest','read_recovery_page_count_2nd_highest','read_recovery_page_number_1st_highest','read_recovery_page_number_2nd_highest','read_recovery_page_number_3rd_highest','read_recovery_retry_attempt_count_during_erase_suspend','read_recovery_success_count_recipe_01_bes_hard_read','read_recovery_success_count_recipe_01_cmd_CF','read_recovery_success_count_recipe_01_dynamic_read_shallow','read_recovery_success_count_recipe_01_soft_read','read_recovery_total_retry_attempt_count','read_recovery_upper_page_lpage_retry_count','glist_grown_blocks_for_frame','glist_grown_blocks_for_program_fail','grown_blocks_for_erase_fail','grown_blocks_for_frame','grown_blocks_for_program_fail','drive_average_ber','lower_page_average_ber','middle_page_average_ber','upper_page_average_ber','ifs_read_error_counts_nand','p0_smart_error_logs','ifs_erase_counts_nand','read_fbc_warning_threshold_exceeded','smart_warning_composite_temperature_time','case_composite_temperature','max_case_composite_temperature','drive_life_remaining','fe_core_voltage','fe_process','fe_temperature_sensor','life_used_percentage_x100','life_used_percentage_x100_internal','p0_smart_safe_shutdowns','num_discharge_tests_run_since_factory','zq_calibration_issued_to_die_count','pfail','recycled_sb_due_to_read_disturb_no_adit_when_only_WL_tierjoint_written', 'recycled_sb_due_to_reclamaton', 'host_cache_write_reovered_count', 'log_read_recovered_cunt', 'read_ecovery_fm0_sl1_ch3', 'read_recovery_page_count_3rd_hihest', 'read_recovery_success_cunt_recipe_01_bes_hard_read_program_suspend', 'read_recovery_ttal_retry_attempt_count_Last_8GB', 'no_of_dies_with_grown_defcts', 'war_log_entries_count', 'p1_smart_afe_shutdowns'\"\n",
    "for i in range(1,30):\n",
    "  print(f\"iteration: {i}\")\n",
    "  query = (f\"SELECT {de_fields},{lp_fields} \"\n",
    "          f\"FROM ssd_testlog2.drive_event de \"\n",
    "          f\"JOIN ssd_testlog2.ua_logpage0x3e_archive lp \"\n",
    "          f\"ON de.serial_number = lp.serial_number AND de.test_date = lp.test_date \"\n",
    "          f\"WHERE de.test_date BETWEEN '2021-05-0{i} 00:00:00' AND '2021-05-0{i} 23:59:59' \"\n",
    "            f\"AND de.part_number IN ({model_values}) \"\n",
    "            f\"AND lp.field_name IN ({field_names}) \"\n",
    "            f\"AND de.operation = 'SMST' \")\n",
    "  cursor.execute(query)\n",
    "  df_main_temp:pd.DataFrame = cursor.fetch_dataframe()\n",
    "  df_main = pd.concat([df_main, df_main_temp])\n",
    "df_main.shape\n",
    "cursor = conn.cursor()\n",
    "cursor.close()\n",
    "conn.close()"
   ]
  },
  {
   "cell_type": "markdown",
   "id": "d7749263-46a3-41b0-bae3-fb1ffa75a97f",
   "metadata": {
    "tags": []
   },
   "source": [
    "Pivot the table so that each field name becomes a column, grouped by the serial_number,test_date,instance"
   ]
  },
  {
   "cell_type": "code",
   "execution_count": null,
   "id": "31c02652-2eda-4316-8a4e-d3433b7c0afe",
   "metadata": {
    "execution": {
     "iopub.execute_input": "2024-01-23T19:00:09.195335Z",
     "iopub.status.busy": "2024-01-23T19:00:09.195335Z",
     "iopub.status.idle": "2024-01-23T19:02:24.293031Z",
     "shell.execute_reply": "2024-01-23T19:02:24.292020Z",
     "shell.execute_reply.started": "2024-01-23T19:00:09.195335Z"
    },
    "scrolled": true
   },
   "outputs": [],
   "source": [
    "df_main_pivot = df_main.pivot_table(index=['serial_number','part_number','operation','test_date','instance'], columns='field_name', values='field_value', aggfunc='first', fill_value=0)\n",
    "file_path = os.path.join(directory, 'df_main_pivot.csv')\n",
    "df_main_pivot.to_csv(file_path)\n",
    "df_main_pivot.shape"
   ]
  },
  {
   "cell_type": "markdown",
   "id": "8ff73ea2-6d6f-45b4-a109-1bac19a08f4e",
   "metadata": {
    "tags": []
   },
   "source": [
    "Move the power_on_hours column to the beginning of the field name columns"
   ]
  },
  {
   "cell_type": "code",
   "execution_count": null,
   "id": "2de923a8-4b25-400e-92bb-b2fdb363be1d",
   "metadata": {
    "execution": {
     "iopub.execute_input": "2024-01-23T19:02:48.060077Z",
     "iopub.status.busy": "2024-01-23T19:02:48.059077Z",
     "iopub.status.idle": "2024-01-23T19:02:48.184457Z",
     "shell.execute_reply": "2024-01-23T19:02:48.183447Z",
     "shell.execute_reply.started": "2024-01-23T19:02:48.060077Z"
    },
    "scrolled": true,
    "tags": []
   },
   "outputs": [],
   "source": [
    "columns = df_main_pivot.columns.tolist()\n",
    "columns.insert(0,columns.pop(columns.index('power_on_hours')))\n",
    "df_data = df_main_pivot.reindex(columns=columns)\n"
   ]
  },
  {
   "cell_type": "code",
   "execution_count": null,
   "id": "14dd8735",
   "metadata": {},
   "outputs": [],
   "source": [
    "df_data = df_data.sort_values(by=['test_date','serial_number'])\n",
    "df_data.shape"
   ]
  },
  {
   "cell_type": "markdown",
   "id": "afe22711",
   "metadata": {},
   "source": [
    "Flatten the column structure and reindex to simplify view of columns"
   ]
  },
  {
   "cell_type": "code",
   "execution_count": null,
   "id": "a236172c",
   "metadata": {},
   "outputs": [],
   "source": [
    "df_data.reset_index(inplace=True)\n",
    "df_data.columns.name = None\n",
    "df_data.shape"
   ]
  },
  {
   "cell_type": "code",
   "execution_count": null,
   "id": "5f4ad838",
   "metadata": {},
   "outputs": [],
   "source": [
    "idx = df_data.groupby(['serial_number', 'part_number', 'operation', 'test_date'])['power_on_hours'].idxmax()\n",
    "df_data_with_max_poh = df_data.loc[idx]\n",
    "df_data_with_max_poh.index = df_data_with_max_poh.index.to_flat_index()\n",
    "df_data_with_max_poh = df_data_with_max_poh.reset_index(drop=True)\n",
    "\n",
    "file_path = os.path.join(directory, 'df_data_with_max_poh.csv')\n",
    "df_data_with_max_poh.to_csv(file_path)\n"
   ]
  },
  {
   "cell_type": "code",
   "execution_count": null,
   "id": "81d3aeb7",
   "metadata": {},
   "outputs": [],
   "source": [
    "df_data_with_max_poh\n"
   ]
  },
  {
   "cell_type": "markdown",
   "id": "c53c4f23-5fe6-4723-9d85-f15c0d23e2b7",
   "metadata": {
    "tags": []
   },
   "source": [
    "Get nunique to show the number of unique values in each column"
   ]
  },
  {
   "cell_type": "code",
   "execution_count": null,
   "id": "fd760310-648f-455c-94fa-dcfbade9efb9",
   "metadata": {
    "execution": {
     "iopub.execute_input": "2024-01-23T19:03:08.854350Z",
     "iopub.status.busy": "2024-01-23T19:03:08.853350Z",
     "iopub.status.idle": "2024-01-23T19:03:08.957987Z",
     "shell.execute_reply": "2024-01-23T19:03:08.956977Z",
     "shell.execute_reply.started": "2024-01-23T19:03:08.854350Z"
    },
    "tags": []
   },
   "outputs": [],
   "source": [
    "nunique = df_data_with_max_poh.nunique()\n",
    "nunique.columns=['column','uniquevalues']\n",
    "nunique.to_csv('data_uniqueness.csv')\n",
    "nunique\n",
    "unique_percentages = (df_data_with_max_poh.nunique() / df_data_with_max_poh.shape[0]) * 100\n",
    "plt.figure(figsize=(10, 6))\n",
    "unique_percentages.plot(kind='bar', color='skyblue')\n",
    "plt.title('Percentage of Unique Values in Each Column')\n",
    "plt.xlabel('Columns')\n",
    "plt.ylabel('Percentage of Unique Values')\n",
    "plt.xticks(rotation=45)\n",
    "plt.grid(axis='y', linestyle='--', alpha=0.7)\n",
    "plt.tight_layout()\n",
    "plt.show()"
   ]
  },
  {
   "cell_type": "markdown",
   "id": "9e5c3076-4e0e-4400-8ddf-66ef6724f0cf",
   "metadata": {
    "tags": []
   },
   "source": [
    "Drop columns with a single unique value"
   ]
  },
  {
   "cell_type": "code",
   "execution_count": null,
   "id": "198fb49a-f808-461a-93ec-2f6471e7507e",
   "metadata": {
    "execution": {
     "iopub.execute_input": "2024-01-23T19:03:12.517973Z",
     "iopub.status.busy": "2024-01-23T19:03:12.517973Z",
     "iopub.status.idle": "2024-01-23T19:03:12.541194Z",
     "shell.execute_reply": "2024-01-23T19:03:12.540184Z",
     "shell.execute_reply.started": "2024-01-23T19:03:12.517973Z"
    },
    "scrolled": true
   },
   "outputs": [],
   "source": [
    "cols_to_drop = nunique[nunique == 1].index\n",
    "df_result = df_data.drop(cols_to_drop, axis=1)\n",
    "df_data_with_max_poh = df_data_with_max_poh.drop(cols_to_drop, axis=1)\n",
    "\n",
    "file_path = os.path.join(directory, 'df_data_with_max_poh.csv')\n",
    "\n",
    "df_data_with_max_poh.to_csv(file_path)"
   ]
  },
  {
   "cell_type": "code",
   "execution_count": null,
   "id": "1491528c",
   "metadata": {},
   "outputs": [],
   "source": [
    "df_data_with_max_poh.shape"
   ]
  },
  {
   "cell_type": "markdown",
   "id": "d717cff9",
   "metadata": {},
   "source": [
    "EDA"
   ]
  },
  {
   "cell_type": "code",
   "execution_count": null,
   "id": "d0e462a9",
   "metadata": {},
   "outputs": [],
   "source": [
    "df_data_with_max_poh.describe()"
   ]
  },
  {
   "cell_type": "code",
   "execution_count": null,
   "id": "f6516a3c",
   "metadata": {},
   "outputs": [],
   "source": [
    "nunique = df_data_with_max_poh.nunique()\n",
    "nunique.columns=['column','uniquevalues']\n",
    "unique_percentages = (df_data_with_max_poh.nunique() / df_data_with_max_poh.shape[0]) * 100\n",
    "plt.figure(figsize=(10, 6))\n",
    "unique_percentages.plot(kind='bar', color='skyblue')\n",
    "plt.title('Percentage of Unique Values in Each Column')\n",
    "plt.xlabel('Columns')\n",
    "plt.ylabel('Percentage of Unique Values')\n",
    "plt.xticks(rotation=45)\n",
    "plt.grid(axis='y', linestyle='--', alpha=0.7)\n",
    "plt.tight_layout()\n",
    "plt.show()"
   ]
  },
  {
   "cell_type": "code",
   "execution_count": null,
   "id": "0c6a6d93",
   "metadata": {},
   "outputs": [],
   "source": [
    "file_path = os.path.join(directory, 'data_uniqueness.csv')\n",
    "nunique.to_csv(file_path)\n",
    "\n",
    "\n",
    "file_path = os.path.join(directory, 'df_data_with_max_poh.csv')\n",
    "df_data_with_max_poh.to_csv('df_data_with_max_poh.csv')"
   ]
  },
  {
   "cell_type": "code",
   "execution_count": null,
   "id": "0ec8860d",
   "metadata": {},
   "outputs": [],
   "source": [
    "df_data_with_max_poh.shape"
   ]
  },
  {
   "cell_type": "markdown",
   "id": "352efc35",
   "metadata": {},
   "source": [
    "Limiting to columns listed on Confluence"
   ]
  },
  {
   "cell_type": "code",
   "execution_count": null,
   "id": "a39d1725",
   "metadata": {},
   "outputs": [],
   "source": [
    "with pd.option_context('display.float_format', lambda x: '%.2f' % x):\n",
    "    df_data_with_max_poh_desc = df_data_with_max_poh[['recycle_data_recovered_count','recycle_lpages_read','recycle_lpages_written','recycled_sb_due_to_fault','recycled_sb_due_to_read_disturb_audit_closed_block','recycled_sb_due_to_read_disturb_no_audit_when_only_WL0_written','recycled_sb_due_to_read_disturb_open_block_audit_on_alternate_WL','recycled_sb_due_to_read_disturb_open_block_when_target_read_on_WL_tierjoint','recycled_sb_due_to_read_error_recovery_deep_retry','recycled_sb_that_received_pre_program_erase_and_had_DI','recycled_sb_that_were_open_and_had_DI','recycled_sb_that_were_open_subset_that_received_pre_program_erase','recycled_sb_that_were_open_when_recycled','a2f_op_read_recovery_count','host_lpages_recovered_with_frame_FP_Worker0','host_lpages_recovered_with_frame_FP_Worker1','host_lpages_recovered_with_read_retries_FP_Worker0','host_lpages_recovered_with_read_retries_FP_Worker1','host_read_recovered_count','read_recovery_fail_count_recipe_01_proceed_to_FRAME','read_recovery_fm0_sl0_ch0','read_recovery_fm0_sl0_ch1','read_recovery_fm0_sl0_ch2','read_recovery_fm0_sl0_ch3','read_recovery_fm0_sl1_ch0','read_recovery_fm0_sl1_ch1','read_recovery_fm0_sl1_ch2','read_recovery_lower_page_lpage_retry_count','read_recovery_middle_page_lpage_retry_count','read_recovery_pMLC_lpage_retry_count','read_recovery_page_count_1st_highest','read_recovery_page_count_2nd_highest','read_recovery_page_number_1st_highest','read_recovery_page_number_2nd_highest','read_recovery_page_number_3rd_highest','read_recovery_retry_attempt_count_during_erase_suspend','read_recovery_success_count_recipe_01_bes_hard_read','read_recovery_success_count_recipe_01_cmd_CF','read_recovery_success_count_recipe_01_dynamic_read_shallow','read_recovery_success_count_recipe_01_soft_read','read_recovery_total_retry_attempt_count','read_recovery_upper_page_lpage_retry_count','glist_grown_blocks_for_frame','glist_grown_blocks_for_program_fail','grown_blocks_for_erase_fail','grown_blocks_for_frame','grown_blocks_for_program_fail','drive_average_ber','lower_page_average_ber','middle_page_average_ber','upper_page_average_ber','ifs_read_error_counts_nand','p0_smart_error_logs','ifs_erase_counts_nand','read_fbc_warning_threshold_exceeded','smart_warning_composite_temperature_time','case_composite_temperature','max_case_composite_temperature','drive_life_remaining','fe_core_voltage','fe_process','fe_temperature_sensor','life_used_percentage_x100','life_used_percentage_x100_internal','p0_smart_safe_shutdowns','num_discharge_tests_run_since_factory','zq_calibration_issued_to_die_count','pfail']].describe()\n",
    "    print (df_data_with_max_poh_desc)"
   ]
  },
  {
   "cell_type": "code",
   "execution_count": null,
   "id": "0c7ae25f",
   "metadata": {},
   "outputs": [],
   "source": [
    "f_data = df_data_with_max_poh[['recycle_data_recovered_count','recycle_lpages_read','recycle_lpages_written','recycled_sb_due_to_fault','recycled_sb_due_to_read_disturb_audit_closed_block','recycled_sb_due_to_read_disturb_no_audit_when_only_WL0_written','recycled_sb_due_to_read_disturb_open_block_audit_on_alternate_WL','recycled_sb_due_to_read_disturb_open_block_when_target_read_on_WL_tierjoint','recycled_sb_due_to_read_error_recovery_deep_retry','recycled_sb_that_received_pre_program_erase_and_had_DI','recycled_sb_that_were_open_and_had_DI','recycled_sb_that_were_open_subset_that_received_pre_program_erase','recycled_sb_that_were_open_when_recycled','a2f_op_read_recovery_count','host_lpages_recovered_with_frame_FP_Worker0','host_lpages_recovered_with_frame_FP_Worker1','host_lpages_recovered_with_read_retries_FP_Worker0','host_lpages_recovered_with_read_retries_FP_Worker1','host_read_recovered_count','read_recovery_fail_count_recipe_01_proceed_to_FRAME','read_recovery_fm0_sl0_ch0','read_recovery_fm0_sl0_ch1','read_recovery_fm0_sl0_ch2','read_recovery_fm0_sl0_ch3','read_recovery_fm0_sl1_ch0','read_recovery_fm0_sl1_ch1','read_recovery_fm0_sl1_ch2','read_recovery_lower_page_lpage_retry_count','read_recovery_middle_page_lpage_retry_count','read_recovery_pMLC_lpage_retry_count','read_recovery_page_count_1st_highest','read_recovery_page_count_2nd_highest','read_recovery_page_number_1st_highest','read_recovery_page_number_2nd_highest','read_recovery_page_number_3rd_highest','read_recovery_retry_attempt_count_during_erase_suspend','read_recovery_success_count_recipe_01_bes_hard_read','read_recovery_success_count_recipe_01_cmd_CF','read_recovery_success_count_recipe_01_dynamic_read_shallow','read_recovery_success_count_recipe_01_soft_read','read_recovery_total_retry_attempt_count','read_recovery_upper_page_lpage_retry_count','glist_grown_blocks_for_frame','glist_grown_blocks_for_program_fail','grown_blocks_for_erase_fail','grown_blocks_for_frame','grown_blocks_for_program_fail','drive_average_ber','lower_page_average_ber','middle_page_average_ber','upper_page_average_ber','ifs_read_error_counts_nand','p0_smart_error_logs','ifs_erase_counts_nand','read_fbc_warning_threshold_exceeded','smart_warning_composite_temperature_time','case_composite_temperature','max_case_composite_temperature','drive_life_remaining','fe_core_voltage','fe_process','fe_temperature_sensor','life_used_percentage_x100','life_used_percentage_x100_internal','p0_smart_safe_shutdowns','num_discharge_tests_run_since_factory','zq_calibration_issued_to_die_count','pfail']]\n",
    "file_path = os.path.join(directory, 'f_data.csv')\n",
    "f_data.to_csv(file_path)\n",
    "f_data.shape"
   ]
  },
  {
   "cell_type": "code",
   "execution_count": null,
   "id": "78f72cd4",
   "metadata": {},
   "outputs": [],
   "source": [
    "f_data.describe()"
   ]
  },
  {
   "cell_type": "code",
   "execution_count": null,
   "id": "2dc34074",
   "metadata": {},
   "outputs": [],
   "source": [
    "nuniquef_data = f_data.nunique()\n",
    "nuniquef_data.columns=['column','uniquevalues']\n",
    "unique_percentages = (f_data.nunique() / f_data.shape[0]) * 100\n",
    "plt.figure(figsize=(10, 6))\n",
    "unique_percentages.plot(kind='bar', color='skyblue')\n",
    "plt.title('Percentage of Unique Values in Each Column on FINAL DATA')\n",
    "plt.xlabel('Columns')\n",
    "plt.ylabel('Percentage of Unique Values')\n",
    "plt.xticks(rotation=45)\n",
    "plt.grid(axis='y', linestyle='--', alpha=0.7)\n",
    "plt.tight_layout()\n",
    "plt.show()"
   ]
  },
  {
   "cell_type": "code",
   "execution_count": null,
   "id": "e45341be",
   "metadata": {},
   "outputs": [],
   "source": [
    "f_data_corr= f_data.corr()\n",
    "plt.imshow(f_data_corr, cmap='viridis', interpolation='nearest')\n",
    "plt.colorbar()  \n",
    "plt.title('Correlation Matrix')\n",
    "plt.show()"
   ]
  },
  {
   "cell_type": "markdown",
   "id": "3743eab9",
   "metadata": {},
   "source": [
    "Correlation between features"
   ]
  },
  {
   "cell_type": "code",
   "execution_count": null,
   "id": "666317d7",
   "metadata": {},
   "outputs": [],
   "source": [
    "plt.figure(figsize=(50, 50))  \n",
    "sns.heatmap(f_data_corr, annot=True, fmt=\".2f\", cmap='coolwarm',\n",
    "            xticklabels=f_data_corr.columns,\n",
    "            yticklabels=f_data_corr.columns)\n",
    "plt.title('Correlation Matrix with Column Names')\n",
    "plt.show()"
   ]
  },
  {
   "cell_type": "markdown",
   "id": "95ec995a",
   "metadata": {},
   "source": [
    "MinMax Scaler (Normalization)"
   ]
  },
  {
   "cell_type": "code",
   "execution_count": null,
   "id": "c238717c",
   "metadata": {},
   "outputs": [],
   "source": [
    "standard_scaler = StandardScaler()\n",
    "\n",
    "standard_scaler_data = standard_scaler.fit_transform(f_data)\n",
    "standard_scaler_data.shape"
   ]
  },
  {
   "cell_type": "code",
   "execution_count": null,
   "id": "92a40cef",
   "metadata": {},
   "outputs": [],
   "source": [
    "iso_forest = IsolationForest(contamination=0.03, random_state=45)\n",
    "iso_forest.fit(standard_scaler_data)\n",
    "\n",
    "predictions = iso_forest.predict(standard_scaler_data)"
   ]
  },
  {
   "cell_type": "code",
   "execution_count": null,
   "id": "49125773",
   "metadata": {},
   "outputs": [],
   "source": [
    "anomalies = standard_scaler_data[predictions == -1]\n",
    "anomalies.shape"
   ]
  },
  {
   "cell_type": "code",
   "execution_count": null,
   "id": "3f11fa18",
   "metadata": {},
   "outputs": [],
   "source": [
    "predictions_df = pd.DataFrame(predictions, columns=['Predictions'])\n",
    "print(predictions_df)\n",
    "df_data_with_max_poh_iso = pd.DataFrame(df_data_with_max_poh)\n",
    "df_data_with_max_poh_iso['Predictions'] = 0\n",
    "for index, row in df_data_with_max_poh_iso.iterrows():\n",
    "    df_data_with_max_poh_iso.at[index, 'Predictions'] = predictions_df.at[index, 'Predictions']\n",
    "\n",
    "file_path = os.path.join(directory, 'df_data_with_max_poh_iso.csv')\n",
    "df_data_with_max_poh_iso.to_csv(file_path)\n"
   ]
  },
  {
   "cell_type": "markdown",
   "id": "1a84de3f",
   "metadata": {},
   "source": [
    "USING K_MEANS ALGORITHM"
   ]
  },
  {
   "cell_type": "code",
   "execution_count": null,
   "id": "b8ad4c1d",
   "metadata": {},
   "outputs": [],
   "source": [
    "wcss = []\n",
    "for i in range(1, 11):\n",
    "    kmeans = KMeans(n_clusters=i, init='k-means++', max_iter=300, n_init=9, random_state=1)\n",
    "    kmeans.fit(standard_scaler_data)\n",
    "    wcss.append(kmeans.inertia_)\n",
    "\n",
    "plt.plot(range(1, 11), wcss)\n",
    "plt.title('Elbow Method')\n",
    "plt.xlabel('Number of clusters')\n",
    "plt.ylabel('WCSS')\n",
    "plt.show()\n"
   ]
  },
  {
   "cell_type": "code",
   "execution_count": null,
   "id": "238840c2",
   "metadata": {},
   "outputs": [],
   "source": [
    "k = 10\n",
    "kmeans = KMeans(n_clusters=k, init='k-means++', n_init=9)\n",
    "kmeans.fit(standard_scaler_data)\n",
    "centroids = kmeans.cluster_centers_\n",
    "labels = kmeans.labels_\n",
    "kmeans_labeled_data = [(point, label) for point, label in zip(standard_scaler_data, labels)]\n",
    "print(len(standard_scaler_data[labels == 0]),len(standard_scaler_data[labels == 1]),len(standard_scaler_data[labels == 2]),len(standard_scaler_data[labels == 3]))\n",
    "print(len(labels))\n",
    "[(point, label) for point, label in zip(standard_scaler_data, labels)]\n",
    "plt.figure(figsize=(7, 7))\n",
    "for i in range(k):\n",
    "    cluster_points = standard_scaler_data[labels == i]\n",
    "    plt.scatter(cluster_points[:, 0], cluster_points[:, 1], label=f'Cluster {i+1}')\n",
    "\n",
    "plt.scatter(centroids[:, 0], centroids[:, 1], color='red', marker='x', s=100, label='Centroids')\n",
    "plt.title('K-Means Clustering')\n",
    "plt.xlabel('X')\n",
    "plt.ylabel('Y')\n",
    "plt.legend()\n",
    "plt.grid(True)\n",
    "plt.show()\n"
   ]
  },
  {
   "cell_type": "code",
   "execution_count": null,
   "id": "6079a67d",
   "metadata": {},
   "outputs": [],
   "source": [
    "df_data_with_max_poh_kmeans = pd.DataFrame(df_data_with_max_poh_iso)\n",
    "df_data_with_max_poh_kmeans['Clusters'] = 0\n",
    "for index, row in df_data_with_max_poh_kmeans.iterrows():\n",
    "    df_data_with_max_poh_kmeans.at[index, 'Clusters'] = labels[index]\n",
    "file_path = os.path.join(directory, 'df_data_with_max_poh_kmeans.csv')\n",
    "df_data_with_max_poh_kmeans.to_csv(file_path)"
   ]
  },
  {
   "cell_type": "code",
   "execution_count": null,
   "id": "81c4f628",
   "metadata": {},
   "outputs": [],
   "source": [
    "iso_labels = df_data_with_max_poh_kmeans[\"Predictions\"]\n",
    "iso_labels.replace(-1,0, inplace=True)\n",
    "iso_label_counts = np.bincount(iso_labels)\n",
    "plt.figure(figsize=(8, 6))\n",
    "plt.pie(iso_label_counts, labels=np.unique(iso_labels), autopct='%1.1f%%', startangle=140)\n",
    "\n",
    "plt.title('Pie chart of anamolies from ISOForest')\n",
    "plt.show()\n"
   ]
  },
  {
   "cell_type": "code",
   "execution_count": null,
   "id": "ccd4f475",
   "metadata": {},
   "outputs": [],
   "source": [
    "label_counts = np.bincount(labels)\n",
    "plt.figure(figsize=(8, 6))\n",
    "plt.pie(label_counts, labels=np.unique(labels), autopct='%1.1f%%', startangle=140)\n",
    "plt.title('Pie Chart of K-means Clustering Labels')\n",
    "plt.show()\n"
   ]
  }
 ],
 "metadata": {
  "kernelspec": {
   "display_name": "Python 3 (ipykernel)",
   "language": "python",
   "name": "python3"
  },
  "language_info": {
   "codemirror_mode": {
    "name": "ipython",
    "version": 3
   },
   "file_extension": ".py",
   "mimetype": "text/x-python",
   "name": "python",
   "nbconvert_exporter": "python",
   "pygments_lexer": "ipython3",
   "version": "3.10.11"
  }
 },
 "nbformat": 4,
 "nbformat_minor": 5
}
