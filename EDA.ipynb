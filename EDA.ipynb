{
 "cells": [
  {
   "cell_type": "markdown",
   "id": "72ac7cf9-264e-4479-8d52-f524b1c61d3a",
   "metadata": {
    "tags": []
   },
   "source": [
    "All imports"
   ]
  },
  {
   "cell_type": "code",
   "execution_count": null,
   "id": "4ec4a994",
   "metadata": {},
   "outputs": [],
   "source": [
    "import numpy as np\n",
    "import pandas as pd\n",
    "import matplotlib.pyplot as plt\n",
    "import redshift_connector\n",
    "import seaborn as sns\n",
    "import os\n",
    "from datetime import datetime\n",
    "import random\n",
    "\n",
    "from sklearn.preprocessing import StandardScaler, MinMaxScaler, RobustScaler\n",
    "\n",
    "from sklearn.ensemble import IsolationForest\n",
    "from sklearn.cluster import KMeans\n",
    "from sklearn.covariance import EllipticEnvelope\n",
    "from sklearn.neighbors import LocalOutlierFactor\n",
    "from sklearn.svm import OneClassSVM\n"
   ]
  },
  {
   "cell_type": "markdown",
   "id": "33d52787",
   "metadata": {},
   "source": [
    "Setting the context"
   ]
  },
  {
   "cell_type": "code",
   "execution_count": null,
   "id": "acd11d76",
   "metadata": {},
   "outputs": [],
   "source": [
    "random_number = random.randint(1, 1000)\n",
    "\n",
    "# Get the current date and time\n",
    "now = datetime.now()\n",
    "formatted_now = now.strftime(\"%Y_%m_%d_%H_%M_%S\")\n",
    "print(\"Random Number:\", random_number)\n",
    "print(\"Formatted date and time:\", formatted_now)\n",
    "# Specify the directory path where you want to save the CSV file\n",
    "directory = f'EDA_{formatted_now}_{random_number}'\n",
    "\n",
    "# Create the directory if it doesn't exist\n",
    "if not os.path.exists(directory):\n",
    "    os.makedirs(directory)"
   ]
  },
  {
   "cell_type": "markdown",
   "id": "0750ea64",
   "metadata": {},
   "source": [
    "Read Input Data from CSVs"
   ]
  },
  {
   "cell_type": "code",
   "execution_count": null,
   "id": "aceda4f5-0165-405b-9756-057976d12e90",
   "metadata": {
    "execution": {
     "iopub.execute_input": "2024-01-23T18:39:15.882910Z",
     "iopub.status.busy": "2024-01-23T18:39:15.881909Z",
     "iopub.status.idle": "2024-01-23T18:58:58.608053Z",
     "shell.execute_reply": "2024-01-23T18:58:58.608053Z",
     "shell.execute_reply.started": "2024-01-23T18:39:15.882910Z"
    },
    "tags": []
   },
   "outputs": [],
   "source": [
    "df_data_with_max_poh = pd.DataFrame()\n",
    "\n",
    "temp_df = pd.read_csv(\"df_data_with_max_poh_failed_drives.csv\")\n",
    "temp_df['Failed_Drive']='YES'\n",
    "df_data_with_max_poh = pd.concat([df_data_with_max_poh, temp_df])\n",
    "\n",
    "temp_df = pd.read_csv(\"df_data_with_max_poh_april_2021.csv\")\n",
    "temp_df['Failed_Drive']='NO'\n",
    "df_data_with_max_poh = pd.concat([df_data_with_max_poh, temp_df])\n",
    "\n",
    "temp_df = pd.read_csv(\"df_data_with_max_poh_may_2021.csv\")\n",
    "temp_df['Failed_Drive']='NO'\n",
    "df_data_with_max_poh = pd.concat([df_data_with_max_poh, temp_df])\n",
    "\n",
    "temp_df = pd.read_csv(\"df_data_with_max_poh_june_2021.csv\")\n",
    "temp_df['Failed_Drive']='NO'\n",
    "df_data_with_max_poh = pd.concat([df_data_with_max_poh, temp_df])\n",
    "\n",
    "temp_df = pd.read_csv(\"df_data_with_max_poh_july_2021.csv\")\n",
    "temp_df['Failed_Drive']='NO'\n",
    "df_data_with_max_poh = pd.concat([df_data_with_max_poh, temp_df])\n",
    "\n",
    "temp_df = pd.read_csv(\"df_data_with_max_poh_august_2021.csv\")\n",
    "temp_df['Failed_Drive']='NO'\n",
    "df_data_with_max_poh = pd.concat([df_data_with_max_poh, temp_df])\n",
    "\n",
    "temp_df = pd.read_csv(\"df_data_with_max_poh_sep_2021.csv\")\n",
    "temp_df['Failed_Drive']='NO'\n",
    "df_data_with_max_poh = pd.concat([df_data_with_max_poh, temp_df])\n",
    "\n",
    "#cleaning\n",
    "df_data_with_max_poh = df_data_with_max_poh.fillna(0)\n",
    "df_data_with_max_poh = df_data_with_max_poh.reset_index(drop=True)\n",
    "df_data_with_max_poh"
   ]
  },
  {
   "cell_type": "markdown",
   "id": "e15ff9ba",
   "metadata": {},
   "source": [
    "Adding Failed drives info"
   ]
  },
  {
   "cell_type": "code",
   "execution_count": null,
   "id": "aec31036",
   "metadata": {},
   "outputs": [],
   "source": [
    "file_path = os.path.join(directory, 'df_data_with_max_poh_combined.csv')\n",
    "df_data_with_max_poh.to_csv(file_path)"
   ]
  },
  {
   "cell_type": "markdown",
   "id": "c53c4f23-5fe6-4723-9d85-f15c0d23e2b7",
   "metadata": {
    "tags": []
   },
   "source": [
    "Get nunique to show the number of unique values in each column"
   ]
  },
  {
   "cell_type": "code",
   "execution_count": null,
   "id": "fd760310-648f-455c-94fa-dcfbade9efb9",
   "metadata": {
    "execution": {
     "iopub.execute_input": "2024-01-23T19:03:08.854350Z",
     "iopub.status.busy": "2024-01-23T19:03:08.853350Z",
     "iopub.status.idle": "2024-01-23T19:03:08.957987Z",
     "shell.execute_reply": "2024-01-23T19:03:08.956977Z",
     "shell.execute_reply.started": "2024-01-23T19:03:08.854350Z"
    },
    "tags": []
   },
   "outputs": [],
   "source": [
    "nunique = df_data_with_max_poh.nunique()\n",
    "nunique.columns=['column','uniquevalues']\n",
    "nunique.to_csv('data_uniqueness.csv')\n",
    "nunique\n",
    "unique_percentages = (df_data_with_max_poh.nunique() / df_data_with_max_poh.shape[0]) * 100\n",
    "plt.figure(figsize=(10, 6))\n",
    "unique_percentages.plot(kind='bar', color='skyblue')\n",
    "plt.title('Percentage of Unique Values in Each Column')\n",
    "plt.xlabel('Columns')\n",
    "plt.ylabel('Percentage of Unique Values')\n",
    "plt.xticks(rotation=45)\n",
    "plt.grid(axis='y', linestyle='--', alpha=0.7)\n",
    "plt.tight_layout()\n",
    "plt.show()"
   ]
  },
  {
   "cell_type": "markdown",
   "id": "d717cff9",
   "metadata": {},
   "source": [
    "EDA"
   ]
  },
  {
   "cell_type": "code",
   "execution_count": null,
   "id": "d0e462a9",
   "metadata": {},
   "outputs": [],
   "source": [
    "df_data_with_max_poh.describe()"
   ]
  },
  {
   "cell_type": "code",
   "execution_count": null,
   "id": "f6516a3c",
   "metadata": {},
   "outputs": [],
   "source": [
    "nunique = df_data_with_max_poh.nunique()\n",
    "nunique.columns=['column','uniquevalues']\n",
    "unique_percentages = (df_data_with_max_poh.nunique() / df_data_with_max_poh.shape[0]) * 100\n",
    "plt.figure(figsize=(10, 6))\n",
    "unique_percentages.plot(kind='bar', color='skyblue')\n",
    "plt.title('Percentage of Unique Values in Each Column')\n",
    "plt.xlabel('Columns')\n",
    "plt.ylabel('Percentage of Unique Values')\n",
    "plt.xticks(rotation=45)\n",
    "plt.grid(axis='y', linestyle='--', alpha=0.7)\n",
    "plt.tight_layout()\n",
    "plt.show()"
   ]
  },
  {
   "cell_type": "code",
   "execution_count": null,
   "id": "0c6a6d93",
   "metadata": {},
   "outputs": [],
   "source": [
    "file_path = os.path.join(directory, 'features_info.csv')\n",
    "nunique.to_csv(file_path)"
   ]
  },
  {
   "cell_type": "code",
   "execution_count": null,
   "id": "0ec8860d",
   "metadata": {},
   "outputs": [],
   "source": [
    "df_data_with_max_poh.shape"
   ]
  },
  {
   "cell_type": "markdown",
   "id": "352efc35",
   "metadata": {},
   "source": [
    "Limiting to columns listed on Confluence"
   ]
  },
  {
   "cell_type": "code",
   "execution_count": null,
   "id": "a39d1725",
   "metadata": {},
   "outputs": [],
   "source": [
    "with pd.option_context('display.float_format', lambda x: '%.2f' % x):\n",
    "    df_data_with_max_poh_desc = df_data_with_max_poh[['power_on_hours','recycle_data_recovered_count','recycle_lpages_read','recycle_lpages_written','recycled_sb_due_to_fault','recycled_sb_due_to_read_disturb_audit_closed_block','recycled_sb_due_to_read_disturb_no_audit_when_only_WL0_written','recycled_sb_due_to_read_disturb_open_block_audit_on_alternate_WL','recycled_sb_due_to_read_error_recovery_deep_retry','recycled_sb_that_received_pre_program_erase_and_had_DI','recycled_sb_that_were_open_and_had_DI','recycled_sb_that_were_open_subset_that_received_pre_program_erase','recycled_sb_that_were_open_when_recycled','a2f_op_read_recovery_count','host_lpages_recovered_with_frame_FP_Worker0','host_lpages_recovered_with_frame_FP_Worker1','host_lpages_recovered_with_read_retries_FP_Worker0','host_lpages_recovered_with_read_retries_FP_Worker1','host_read_recovered_count','read_recovery_fail_count_recipe_01_proceed_to_FRAME','read_recovery_fm0_sl0_ch0','read_recovery_fm0_sl0_ch1','read_recovery_fm0_sl0_ch2','read_recovery_fm0_sl0_ch3','read_recovery_fm0_sl1_ch0','read_recovery_fm0_sl1_ch1','read_recovery_fm0_sl1_ch2','read_recovery_lower_page_lpage_retry_count','read_recovery_middle_page_lpage_retry_count','read_recovery_pMLC_lpage_retry_count','read_recovery_page_count_1st_highest','read_recovery_page_count_2nd_highest','read_recovery_page_number_1st_highest','read_recovery_page_number_2nd_highest','read_recovery_page_number_3rd_highest','read_recovery_retry_attempt_count_during_erase_suspend','read_recovery_success_count_recipe_01_bes_hard_read','read_recovery_success_count_recipe_01_cmd_CF','read_recovery_success_count_recipe_01_dynamic_read_shallow','read_recovery_success_count_recipe_01_soft_read','read_recovery_total_retry_attempt_count','read_recovery_upper_page_lpage_retry_count','glist_grown_blocks_for_frame','glist_grown_blocks_for_program_fail','grown_blocks_for_erase_fail','grown_blocks_for_frame','grown_blocks_for_program_fail','drive_average_ber','lower_page_average_ber','middle_page_average_ber','upper_page_average_ber','ifs_read_error_counts_nand','p0_smart_error_logs','ifs_erase_counts_nand','read_fbc_warning_threshold_exceeded','smart_warning_composite_temperature_time','case_composite_temperature','max_case_composite_temperature','drive_life_remaining','fe_core_voltage','fe_process','fe_temperature_sensor','life_used_percentage_x100','life_used_percentage_x100_internal','p0_smart_safe_shutdowns','num_discharge_tests_run_since_factory','zq_calibration_issued_to_die_count','pfail']].describe()\n",
    "    print (df_data_with_max_poh_desc)"
   ]
  },
  {
   "cell_type": "code",
   "execution_count": null,
   "id": "bf195a32",
   "metadata": {},
   "outputs": [],
   "source": [
    "max_values = final_data.max()\n",
    "print(max_values)\n",
    "# Plotting\n",
    "max_values.plot(kind='bar')\n",
    "plt.title('Maximum Values in Each Column')\n",
    "plt.ylabel('Max Value')\n",
    "plt.xlabel('Columns')\n",
    "plt.xticks(rotation=0)  # Keep the column names horizontal for readability\n",
    "plt.show()"
   ]
  },
  {
   "cell_type": "code",
   "execution_count": null,
   "id": "2dc34074",
   "metadata": {},
   "outputs": [],
   "source": [
    "nuniquef_data = final_data.nunique()\n",
    "nuniquef_data.columns=['column','uniquevalues']\n",
    "unique_percentages = (final_data.nunique() / final_data.shape[0]) * 100\n",
    "plt.figure(figsize=(10, 6))\n",
    "unique_percentages.plot(kind='bar', color='skyblue')\n",
    "plt.title('Percentage of Unique Values in Each Column on FINAL DATA')\n",
    "plt.xlabel('Columns')\n",
    "plt.ylabel('Percentage of Unique Values')\n",
    "plt.xticks(rotation=45)\n",
    "plt.grid(axis='y', linestyle='--', alpha=0.7)\n",
    "plt.tight_layout()\n",
    "plt.show()"
   ]
  },
  {
   "cell_type": "code",
   "execution_count": null,
   "id": "e45341be",
   "metadata": {},
   "outputs": [],
   "source": [
    "f_data_corr= final_data.corr()\n",
    "plt.imshow(f_data_corr, cmap='viridis', interpolation='nearest')\n",
    "plt.colorbar()  \n",
    "plt.title('Correlation Matrix')\n",
    "plt.show()"
   ]
  },
  {
   "cell_type": "markdown",
   "id": "3743eab9",
   "metadata": {},
   "source": [
    "Correlation between features"
   ]
  },
  {
   "cell_type": "code",
   "execution_count": null,
   "id": "666317d7",
   "metadata": {},
   "outputs": [],
   "source": [
    "plt.figure(figsize=(50, 50))  \n",
    "sns.heatmap(f_data_corr, annot=True, fmt=\".2f\", cmap='coolwarm',\n",
    "            xticklabels=f_data_corr.columns,\n",
    "            yticklabels=f_data_corr.columns)\n",
    "plt.title('Correlation Matrix using data from April-2021 to Sep-2021 and data of failed drives')\n",
    "plt.show()"
   ]
  },
  {
   "cell_type": "code",
   "execution_count": null,
   "id": "ef5cc2a4",
   "metadata": {},
   "outputs": [],
   "source": [
    "final_data.hist(bins=30, figsize=(20, 20))\n",
    "plt.show()"
   ]
  }
 ],
 "metadata": {
  "kernelspec": {
   "display_name": "Python 3 (ipykernel)",
   "language": "python",
   "name": "python3"
  },
  "language_info": {
   "codemirror_mode": {
    "name": "ipython",
    "version": 3
   },
   "file_extension": ".py",
   "mimetype": "text/x-python",
   "name": "python",
   "nbconvert_exporter": "python",
   "pygments_lexer": "ipython3",
   "version": "3.10.11"
  }
 },
 "nbformat": 4,
 "nbformat_minor": 5
}
